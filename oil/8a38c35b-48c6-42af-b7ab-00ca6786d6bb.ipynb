{
 "cells": [
  {
   "cell_type": "markdown",
   "metadata": {},
   "source": [
    "# Выбор локации для скважины"
   ]
  },
  {
   "cell_type": "markdown",
   "metadata": {},
   "source": [
    "## Описание проекта"
   ]
  },
  {
   "cell_type": "markdown",
   "metadata": {},
   "source": [
    "Вы работаете в добывающей компании «ГлавРосГосНефть». Нужно решить, где бурить новую скважину.\n",
    "\n",
    "Вам предоставлены пробы нефти в трёх регионах: в каждом 10 000 месторождений, где измерили качество нефти и объём её запасов. Постройте модель машинного обучения, которая поможет определить регион, где добыча принесёт наибольшую прибыль. Проанализируйте возможную прибыль и риски техникой *Bootstrap.*\n",
    "\n",
    "Шаги для выбора локации:\n",
    "\n",
    "- В избранном регионе ищут месторождения, для каждого определяют значения признаков;\n",
    "- Строят модель и оценивают объём запасов;\n",
    "- Выбирают месторождения с самым высокими оценками значений. Количество месторождений зависит от бюджета компании и стоимости разработки одной скважины;\n",
    "- Прибыль равна суммарной прибыли отобранных месторождений."
   ]
  },
  {
   "cell_type": "markdown",
   "metadata": {},
   "source": [
    "### Условия задачи"
   ]
  },
  {
   "cell_type": "markdown",
   "metadata": {},
   "source": [
    "При разведке региона исследуют 500 точек, из которых с помощью машинного обучения выбирают 200 лучших для разработки.  \n",
    "Бюджет на разработку скважин в регионе — 10 млрд рублей.  \n",
    "При нынешних ценах один баррель сырья приносит 450 рублей дохода. Доход с каждой единицы продукта составляет 450 тыс. рублей, поскольку объём указан в тысячах баррелей.  \n",
    "После оценки рисков нужно оставить лишь те регионы, в которых вероятность убытков меньше 2.5%. Среди них выбирают регион с наибольшей средней прибылью.  "
   ]
  },
  {
   "cell_type": "markdown",
   "metadata": {},
   "source": [
    "### Описание данных"
   ]
  },
  {
   "cell_type": "markdown",
   "metadata": {},
   "source": [
    "id — уникальный идентификатор скважины;  \n",
    "f0, f1, f2 — три признака точек;  \n",
    "product — объём запасов в скважине (тыс. баррелей)."
   ]
  },
  {
   "cell_type": "markdown",
   "metadata": {},
   "source": [
    "## Импорт библиотек"
   ]
  },
  {
   "cell_type": "code",
   "execution_count": 12,
   "metadata": {},
   "outputs": [],
   "source": [
    "import pandas as pd\n",
    "import numpy as np\n",
    "import matplotlib.pyplot as plt\n",
    "import seaborn as sns\n",
    "\n",
    "from sklearn.pipeline import Pipeline\n",
    "\n",
    "from sklearn.model_selection import(\n",
    "    train_test_split,\n",
    "    GridSearchCV,\n",
    ")\n",
    "\n",
    "from sklearn.impute import SimpleImputer\n",
    "\n",
    "from sklearn.preprocessing import(\n",
    "    StandardScaler, MinMaxScaler, RobustScaler\n",
    ")\n",
    "\n",
    "from sklearn.compose import ColumnTransformer\n",
    "from sklearn.metrics import  make_scorer\n",
    "\n",
    "from sklearn.linear_model import LinearRegression\n",
    "\n",
    "from sklearn.metrics import mean_squared_error\n",
    "\n",
    "import os\n",
    "\n",
    "from warnings import simplefilter\n",
    "simplefilter(action='ignore', category=FutureWarning)"
   ]
  },
  {
   "cell_type": "markdown",
   "metadata": {},
   "source": [
    "## Константы"
   ]
  },
  {
   "cell_type": "code",
   "execution_count": 15,
   "metadata": {},
   "outputs": [],
   "source": [
    "RANDOM_STATE = 42\n",
    "state = np.random.RandomState(12345)"
   ]
  },
  {
   "cell_type": "markdown",
   "metadata": {},
   "source": [
    "## Используемые функции"
   ]
  },
  {
   "cell_type": "markdown",
   "metadata": {},
   "source": [
    "### Получение общей информации о датасете"
   ]
  },
  {
   "cell_type": "code",
   "execution_count": 18,
   "metadata": {},
   "outputs": [],
   "source": [
    "def info(df):\n",
    "    display(df.head())\n",
    "    print('____')\n",
    "    print(df.info())\n",
    "    print('____')\n",
    "    print(pd.DataFrame(df.isna().sum(), columns=['Количество пропусков']))\n",
    "    print('____')\n",
    "    print(f'Количество дубликатов: {df.duplicated().sum()}')\n",
    "    print('____')\n",
    "    print(f'Названия столбцов: {df.columns}')"
   ]
  },
  {
   "cell_type": "markdown",
   "metadata": {},
   "source": [
    "### Гистограмма и диаграмма размаха для количественных признаков"
   ]
  },
  {
   "cell_type": "code",
   "execution_count": 20,
   "metadata": {},
   "outputs": [],
   "source": [
    "def plot(df):\n",
    "    num_col = df.select_dtypes(include='number').columns\n",
    "    for column in num_col:\n",
    "        plt.figure(figsize=(14, 4))\n",
    "        plt.subplot(1, 2, 1)\n",
    "        sns.histplot(x=df[column], color = 'darkcyan', bins='auto', kde=True)\n",
    "        plt.title(column)      \n",
    "        plt.subplot(1, 2, 2)\n",
    "        sns.boxplot(x=df[column], color = 'darkcyan')\n",
    "        plt.title(column)\n",
    "        plt.show()"
   ]
  },
  {
   "cell_type": "markdown",
   "metadata": {},
   "source": [
    "### Матрица корреляций"
   ]
  },
  {
   "cell_type": "code",
   "execution_count": 22,
   "metadata": {},
   "outputs": [],
   "source": [
    "def corr_matrix(df, name):\n",
    "    plt.figure(figsize=(10, 5))\n",
    "    sns.heatmap(df.corr(method='spearman'), annot=True, cmap='cividis', annot_kws={\"size\": 12},\\\n",
    "    mask=np.triu(df.corr(method='spearman')))\n",
    "    plt.xticks(fontsize=14)\n",
    "    plt.yticks(fontsize=14)\n",
    "    plt.title(f'Матрица корреляций Спирмена ({name})', fontsize=20);"
   ]
  },
  {
   "cell_type": "markdown",
   "metadata": {},
   "source": [
    "### Разбивка на тренировочную и валидационную выборки (в соотношении 75:25)"
   ]
  },
  {
   "cell_type": "code",
   "execution_count": 24,
   "metadata": {},
   "outputs": [],
   "source": [
    "def df_split(df, target):\n",
    "    X = df.drop(target, axis=1)\n",
    "    y = df[target]\n",
    "    X_train, X_valid, y_train, y_valid = train_test_split(X, y, random_state=RANDOM_STATE, test_size = 0.25)\n",
    "    print(f'Размер тренировочных выборок: {X_train.shape}, {y_train.shape}.\\\n",
    "    Размер валидационных выборок {X_valid.shape}, {y_valid.shape}')\n",
    "    return X_train, X_valid, y_train, y_valid"
   ]
  },
  {
   "cell_type": "markdown",
   "metadata": {},
   "source": [
    "### Расчет RMSE"
   ]
  },
  {
   "cell_type": "code",
   "execution_count": 26,
   "metadata": {},
   "outputs": [],
   "source": [
    "def rmse(y_true, y_pred):\n",
    "    return mean_squared_error(y_true, y_pred, squared=False)\n",
    "rmse_scorer = make_scorer(rmse, greater_is_better=False) "
   ]
  },
  {
   "cell_type": "markdown",
   "metadata": {},
   "source": [
    "### Сохранение предсказанных и рельных результатов, подсчет среднего объема нефти"
   ]
  },
  {
   "cell_type": "code",
   "execution_count": 28,
   "metadata": {},
   "outputs": [],
   "source": [
    "def predict(best_estimator, X_valid, y_valid, region):\n",
    "    print(region)\n",
    "    prediction = best_estimator.predict(X_valid)\n",
    "    print(f'Метрика RMSE на валидационной выборке: {rmse(y_valid, prediction).round(2)}')\n",
    "    result = pd.DataFrame({\n",
    "    'предсказанные_значения': prediction,\n",
    "    'реальные_значения': y_valid\n",
    "    })\n",
    "    display(result.head())\n",
    "    print(f'Среднее значение предсказанных объемов нефти составило '\n",
    "      f'{result[\"предсказанные_значения\"].mean().round(3)} тыс. баррелей')\n",
    "    return (result)"
   ]
  },
  {
   "cell_type": "markdown",
   "metadata": {},
   "source": [
    "## Загрузка и подготовка данных"
   ]
  },
  {
   "cell_type": "code",
   "execution_count": 30,
   "metadata": {},
   "outputs": [
    {
     "data": {
      "text/html": [
       "<div>\n",
       "<style scoped>\n",
       "    .dataframe tbody tr th:only-of-type {\n",
       "        vertical-align: middle;\n",
       "    }\n",
       "\n",
       "    .dataframe tbody tr th {\n",
       "        vertical-align: top;\n",
       "    }\n",
       "\n",
       "    .dataframe thead th {\n",
       "        text-align: right;\n",
       "    }\n",
       "</style>\n",
       "<table border=\"1\" class=\"dataframe\">\n",
       "  <thead>\n",
       "    <tr style=\"text-align: right;\">\n",
       "      <th></th>\n",
       "      <th>id</th>\n",
       "      <th>f0</th>\n",
       "      <th>f1</th>\n",
       "      <th>f2</th>\n",
       "      <th>product</th>\n",
       "    </tr>\n",
       "  </thead>\n",
       "  <tbody>\n",
       "    <tr>\n",
       "      <th>0</th>\n",
       "      <td>txEyH</td>\n",
       "      <td>0.705745</td>\n",
       "      <td>-0.497823</td>\n",
       "      <td>1.221170</td>\n",
       "      <td>105.280062</td>\n",
       "    </tr>\n",
       "    <tr>\n",
       "      <th>1</th>\n",
       "      <td>2acmU</td>\n",
       "      <td>1.334711</td>\n",
       "      <td>-0.340164</td>\n",
       "      <td>4.365080</td>\n",
       "      <td>73.037750</td>\n",
       "    </tr>\n",
       "    <tr>\n",
       "      <th>2</th>\n",
       "      <td>409Wp</td>\n",
       "      <td>1.022732</td>\n",
       "      <td>0.151990</td>\n",
       "      <td>1.419926</td>\n",
       "      <td>85.265647</td>\n",
       "    </tr>\n",
       "    <tr>\n",
       "      <th>3</th>\n",
       "      <td>iJLyR</td>\n",
       "      <td>-0.032172</td>\n",
       "      <td>0.139033</td>\n",
       "      <td>2.978566</td>\n",
       "      <td>168.620776</td>\n",
       "    </tr>\n",
       "    <tr>\n",
       "      <th>4</th>\n",
       "      <td>Xdl7t</td>\n",
       "      <td>1.988431</td>\n",
       "      <td>0.155413</td>\n",
       "      <td>4.751769</td>\n",
       "      <td>154.036647</td>\n",
       "    </tr>\n",
       "  </tbody>\n",
       "</table>\n",
       "</div>"
      ],
      "text/plain": [
       "      id        f0        f1        f2     product\n",
       "0  txEyH  0.705745 -0.497823  1.221170  105.280062\n",
       "1  2acmU  1.334711 -0.340164  4.365080   73.037750\n",
       "2  409Wp  1.022732  0.151990  1.419926   85.265647\n",
       "3  iJLyR -0.032172  0.139033  2.978566  168.620776\n",
       "4  Xdl7t  1.988431  0.155413  4.751769  154.036647"
      ]
     },
     "metadata": {},
     "output_type": "display_data"
    },
    {
     "name": "stdout",
     "output_type": "stream",
     "text": [
      "____\n",
      "<class 'pandas.core.frame.DataFrame'>\n",
      "RangeIndex: 100000 entries, 0 to 99999\n",
      "Data columns (total 5 columns):\n",
      " #   Column   Non-Null Count   Dtype  \n",
      "---  ------   --------------   -----  \n",
      " 0   id       100000 non-null  object \n",
      " 1   f0       100000 non-null  float64\n",
      " 2   f1       100000 non-null  float64\n",
      " 3   f2       100000 non-null  float64\n",
      " 4   product  100000 non-null  float64\n",
      "dtypes: float64(4), object(1)\n",
      "memory usage: 3.8+ MB\n",
      "None\n",
      "____\n",
      "         Количество пропусков\n",
      "id                          0\n",
      "f0                          0\n",
      "f1                          0\n",
      "f2                          0\n",
      "product                     0\n",
      "____\n",
      "Количество дубликатов: 0\n",
      "____\n",
      "Названия столбцов: Index(['id', 'f0', 'f1', 'f2', 'product'], dtype='object')\n"
     ]
    }
   ],
   "source": [
    "pth1 = 'C:/Users/knadi/Desktop/practicum/проекты/машинное обучение в бизнесе нефть/geo_data_0.csv'\n",
    "pth2 = '/datasets/geo_data_0.csv'\n",
    "\n",
    "if os.path.exists(pth1):\n",
    "    region_0 = pd.read_csv(pth1)\n",
    "elif os.path.exists(pth2):\n",
    "    region_0 = pd.read_csv(pth2)\n",
    "else:\n",
    "    print('Something is wrong')\n",
    "info(region_0)"
   ]
  },
  {
   "cell_type": "code",
   "execution_count": 31,
   "metadata": {},
   "outputs": [
    {
     "data": {
      "text/html": [
       "<div>\n",
       "<style scoped>\n",
       "    .dataframe tbody tr th:only-of-type {\n",
       "        vertical-align: middle;\n",
       "    }\n",
       "\n",
       "    .dataframe tbody tr th {\n",
       "        vertical-align: top;\n",
       "    }\n",
       "\n",
       "    .dataframe thead th {\n",
       "        text-align: right;\n",
       "    }\n",
       "</style>\n",
       "<table border=\"1\" class=\"dataframe\">\n",
       "  <thead>\n",
       "    <tr style=\"text-align: right;\">\n",
       "      <th></th>\n",
       "      <th>id</th>\n",
       "      <th>f0</th>\n",
       "      <th>f1</th>\n",
       "      <th>f2</th>\n",
       "      <th>product</th>\n",
       "    </tr>\n",
       "  </thead>\n",
       "  <tbody>\n",
       "    <tr>\n",
       "      <th>0</th>\n",
       "      <td>kBEdx</td>\n",
       "      <td>-15.001348</td>\n",
       "      <td>-8.276000</td>\n",
       "      <td>-0.005876</td>\n",
       "      <td>3.179103</td>\n",
       "    </tr>\n",
       "    <tr>\n",
       "      <th>1</th>\n",
       "      <td>62mP7</td>\n",
       "      <td>14.272088</td>\n",
       "      <td>-3.475083</td>\n",
       "      <td>0.999183</td>\n",
       "      <td>26.953261</td>\n",
       "    </tr>\n",
       "    <tr>\n",
       "      <th>2</th>\n",
       "      <td>vyE1P</td>\n",
       "      <td>6.263187</td>\n",
       "      <td>-5.948386</td>\n",
       "      <td>5.001160</td>\n",
       "      <td>134.766305</td>\n",
       "    </tr>\n",
       "    <tr>\n",
       "      <th>3</th>\n",
       "      <td>KcrkZ</td>\n",
       "      <td>-13.081196</td>\n",
       "      <td>-11.506057</td>\n",
       "      <td>4.999415</td>\n",
       "      <td>137.945408</td>\n",
       "    </tr>\n",
       "    <tr>\n",
       "      <th>4</th>\n",
       "      <td>AHL4O</td>\n",
       "      <td>12.702195</td>\n",
       "      <td>-8.147433</td>\n",
       "      <td>5.004363</td>\n",
       "      <td>134.766305</td>\n",
       "    </tr>\n",
       "  </tbody>\n",
       "</table>\n",
       "</div>"
      ],
      "text/plain": [
       "      id         f0         f1        f2     product\n",
       "0  kBEdx -15.001348  -8.276000 -0.005876    3.179103\n",
       "1  62mP7  14.272088  -3.475083  0.999183   26.953261\n",
       "2  vyE1P   6.263187  -5.948386  5.001160  134.766305\n",
       "3  KcrkZ -13.081196 -11.506057  4.999415  137.945408\n",
       "4  AHL4O  12.702195  -8.147433  5.004363  134.766305"
      ]
     },
     "metadata": {},
     "output_type": "display_data"
    },
    {
     "name": "stdout",
     "output_type": "stream",
     "text": [
      "____\n",
      "<class 'pandas.core.frame.DataFrame'>\n",
      "RangeIndex: 100000 entries, 0 to 99999\n",
      "Data columns (total 5 columns):\n",
      " #   Column   Non-Null Count   Dtype  \n",
      "---  ------   --------------   -----  \n",
      " 0   id       100000 non-null  object \n",
      " 1   f0       100000 non-null  float64\n",
      " 2   f1       100000 non-null  float64\n",
      " 3   f2       100000 non-null  float64\n",
      " 4   product  100000 non-null  float64\n",
      "dtypes: float64(4), object(1)\n",
      "memory usage: 3.8+ MB\n",
      "None\n",
      "____\n",
      "         Количество пропусков\n",
      "id                          0\n",
      "f0                          0\n",
      "f1                          0\n",
      "f2                          0\n",
      "product                     0\n",
      "____\n",
      "Количество дубликатов: 0\n",
      "____\n",
      "Названия столбцов: Index(['id', 'f0', 'f1', 'f2', 'product'], dtype='object')\n"
     ]
    }
   ],
   "source": [
    "pth3 = 'C:/Users/knadi/Desktop/practicum/проекты/машинное обучение в бизнесе нефть/geo_data_1.csv'\n",
    "pth4 = '/datasets/geo_data_1.csv'\n",
    "\n",
    "if os.path.exists(pth3):\n",
    "    region_1 = pd.read_csv(pth3)\n",
    "elif os.path.exists(pth4):\n",
    "    region_1 = pd.read_csv(pth4)\n",
    "else:\n",
    "    print('Something is wrong')\n",
    "info(region_1)\n"
   ]
  },
  {
   "cell_type": "code",
   "execution_count": 32,
   "metadata": {},
   "outputs": [
    {
     "data": {
      "text/html": [
       "<div>\n",
       "<style scoped>\n",
       "    .dataframe tbody tr th:only-of-type {\n",
       "        vertical-align: middle;\n",
       "    }\n",
       "\n",
       "    .dataframe tbody tr th {\n",
       "        vertical-align: top;\n",
       "    }\n",
       "\n",
       "    .dataframe thead th {\n",
       "        text-align: right;\n",
       "    }\n",
       "</style>\n",
       "<table border=\"1\" class=\"dataframe\">\n",
       "  <thead>\n",
       "    <tr style=\"text-align: right;\">\n",
       "      <th></th>\n",
       "      <th>id</th>\n",
       "      <th>f0</th>\n",
       "      <th>f1</th>\n",
       "      <th>f2</th>\n",
       "      <th>product</th>\n",
       "    </tr>\n",
       "  </thead>\n",
       "  <tbody>\n",
       "    <tr>\n",
       "      <th>0</th>\n",
       "      <td>fwXo0</td>\n",
       "      <td>-1.146987</td>\n",
       "      <td>0.963328</td>\n",
       "      <td>-0.828965</td>\n",
       "      <td>27.758673</td>\n",
       "    </tr>\n",
       "    <tr>\n",
       "      <th>1</th>\n",
       "      <td>WJtFt</td>\n",
       "      <td>0.262778</td>\n",
       "      <td>0.269839</td>\n",
       "      <td>-2.530187</td>\n",
       "      <td>56.069697</td>\n",
       "    </tr>\n",
       "    <tr>\n",
       "      <th>2</th>\n",
       "      <td>ovLUW</td>\n",
       "      <td>0.194587</td>\n",
       "      <td>0.289035</td>\n",
       "      <td>-5.586433</td>\n",
       "      <td>62.871910</td>\n",
       "    </tr>\n",
       "    <tr>\n",
       "      <th>3</th>\n",
       "      <td>q6cA6</td>\n",
       "      <td>2.236060</td>\n",
       "      <td>-0.553760</td>\n",
       "      <td>0.930038</td>\n",
       "      <td>114.572842</td>\n",
       "    </tr>\n",
       "    <tr>\n",
       "      <th>4</th>\n",
       "      <td>WPMUX</td>\n",
       "      <td>-0.515993</td>\n",
       "      <td>1.716266</td>\n",
       "      <td>5.899011</td>\n",
       "      <td>149.600746</td>\n",
       "    </tr>\n",
       "  </tbody>\n",
       "</table>\n",
       "</div>"
      ],
      "text/plain": [
       "      id        f0        f1        f2     product\n",
       "0  fwXo0 -1.146987  0.963328 -0.828965   27.758673\n",
       "1  WJtFt  0.262778  0.269839 -2.530187   56.069697\n",
       "2  ovLUW  0.194587  0.289035 -5.586433   62.871910\n",
       "3  q6cA6  2.236060 -0.553760  0.930038  114.572842\n",
       "4  WPMUX -0.515993  1.716266  5.899011  149.600746"
      ]
     },
     "metadata": {},
     "output_type": "display_data"
    },
    {
     "name": "stdout",
     "output_type": "stream",
     "text": [
      "____\n",
      "<class 'pandas.core.frame.DataFrame'>\n",
      "RangeIndex: 100000 entries, 0 to 99999\n",
      "Data columns (total 5 columns):\n",
      " #   Column   Non-Null Count   Dtype  \n",
      "---  ------   --------------   -----  \n",
      " 0   id       100000 non-null  object \n",
      " 1   f0       100000 non-null  float64\n",
      " 2   f1       100000 non-null  float64\n",
      " 3   f2       100000 non-null  float64\n",
      " 4   product  100000 non-null  float64\n",
      "dtypes: float64(4), object(1)\n",
      "memory usage: 3.8+ MB\n",
      "None\n",
      "____\n",
      "         Количество пропусков\n",
      "id                          0\n",
      "f0                          0\n",
      "f1                          0\n",
      "f2                          0\n",
      "product                     0\n",
      "____\n",
      "Количество дубликатов: 0\n",
      "____\n",
      "Названия столбцов: Index(['id', 'f0', 'f1', 'f2', 'product'], dtype='object')\n"
     ]
    }
   ],
   "source": [
    "pth5 = 'C:/Users/knadi/Desktop/practicum/проекты/машинное обучение в бизнесе нефть/geo_data_2.csv'\n",
    "pth6 = '/datasets/geo_data_2.csv'\n",
    "\n",
    "if os.path.exists(pth5):\n",
    "    region_2 = pd.read_csv(pth5)\n",
    "elif os.path.exists(pth6):\n",
    "    region_2 = pd.read_csv(pth6)\n",
    "else:\n",
    "    print('Something is wrong')\n",
    "info(region_2)\n"
   ]
  },
  {
   "cell_type": "markdown",
   "metadata": {},
   "source": [
    "Столбец ID можно сделать индексом и выполнить повторный поиск дубликатов."
   ]
  },
  {
   "cell_type": "code",
   "execution_count": 34,
   "metadata": {},
   "outputs": [
    {
     "data": {
      "text/plain": [
       "0"
      ]
     },
     "execution_count": 34,
     "metadata": {},
     "output_type": "execute_result"
    }
   ],
   "source": [
    "region_0.set_index('id', inplace=True)\n",
    "region_0.duplicated().sum()"
   ]
  },
  {
   "cell_type": "code",
   "execution_count": 35,
   "metadata": {},
   "outputs": [
    {
     "data": {
      "text/plain": [
       "0"
      ]
     },
     "execution_count": 35,
     "metadata": {},
     "output_type": "execute_result"
    }
   ],
   "source": [
    "region_1.set_index('id', inplace=True)\n",
    "region_1.duplicated().sum()"
   ]
  },
  {
   "cell_type": "code",
   "execution_count": 36,
   "metadata": {},
   "outputs": [
    {
     "data": {
      "text/plain": [
       "0"
      ]
     },
     "execution_count": 36,
     "metadata": {},
     "output_type": "execute_result"
    }
   ],
   "source": [
    "region_2.set_index('id', inplace=True)\n",
    "region_2.duplicated().sum()"
   ]
  },
  {
   "cell_type": "markdown",
   "metadata": {},
   "source": [
    "**Загружены данные, содержащие информацию о характеристиках скважин в трех регионах, все представленные признаки являются количественными. Тип данных соответствует соответствует значениям в столбцах, пропуски и дубликаты отсутствуют.**"
   ]
  },
  {
   "cell_type": "markdown",
   "metadata": {},
   "source": [
    "## Исследовательский анализ данных"
   ]
  },
  {
   "cell_type": "code",
   "execution_count": 39,
   "metadata": {},
   "outputs": [
    {
     "data": {
      "text/html": [
       "<div>\n",
       "<style scoped>\n",
       "    .dataframe tbody tr th:only-of-type {\n",
       "        vertical-align: middle;\n",
       "    }\n",
       "\n",
       "    .dataframe tbody tr th {\n",
       "        vertical-align: top;\n",
       "    }\n",
       "\n",
       "    .dataframe thead th {\n",
       "        text-align: right;\n",
       "    }\n",
       "</style>\n",
       "<table border=\"1\" class=\"dataframe\">\n",
       "  <thead>\n",
       "    <tr style=\"text-align: right;\">\n",
       "      <th></th>\n",
       "      <th>f0</th>\n",
       "      <th>f1</th>\n",
       "      <th>f2</th>\n",
       "      <th>product</th>\n",
       "    </tr>\n",
       "  </thead>\n",
       "  <tbody>\n",
       "    <tr>\n",
       "      <th>count</th>\n",
       "      <td>100000.000000</td>\n",
       "      <td>100000.000000</td>\n",
       "      <td>100000.000000</td>\n",
       "      <td>100000.000000</td>\n",
       "    </tr>\n",
       "    <tr>\n",
       "      <th>mean</th>\n",
       "      <td>0.500419</td>\n",
       "      <td>0.250143</td>\n",
       "      <td>2.502647</td>\n",
       "      <td>92.500000</td>\n",
       "    </tr>\n",
       "    <tr>\n",
       "      <th>std</th>\n",
       "      <td>0.871832</td>\n",
       "      <td>0.504433</td>\n",
       "      <td>3.248248</td>\n",
       "      <td>44.288691</td>\n",
       "    </tr>\n",
       "    <tr>\n",
       "      <th>min</th>\n",
       "      <td>-1.408605</td>\n",
       "      <td>-0.848218</td>\n",
       "      <td>-12.088328</td>\n",
       "      <td>0.000000</td>\n",
       "    </tr>\n",
       "    <tr>\n",
       "      <th>25%</th>\n",
       "      <td>-0.072580</td>\n",
       "      <td>-0.200881</td>\n",
       "      <td>0.287748</td>\n",
       "      <td>56.497507</td>\n",
       "    </tr>\n",
       "    <tr>\n",
       "      <th>50%</th>\n",
       "      <td>0.502360</td>\n",
       "      <td>0.250252</td>\n",
       "      <td>2.515969</td>\n",
       "      <td>91.849972</td>\n",
       "    </tr>\n",
       "    <tr>\n",
       "      <th>75%</th>\n",
       "      <td>1.073581</td>\n",
       "      <td>0.700646</td>\n",
       "      <td>4.715088</td>\n",
       "      <td>128.564089</td>\n",
       "    </tr>\n",
       "    <tr>\n",
       "      <th>max</th>\n",
       "      <td>2.362331</td>\n",
       "      <td>1.343769</td>\n",
       "      <td>16.003790</td>\n",
       "      <td>185.364347</td>\n",
       "    </tr>\n",
       "  </tbody>\n",
       "</table>\n",
       "</div>"
      ],
      "text/plain": [
       "                  f0             f1             f2        product\n",
       "count  100000.000000  100000.000000  100000.000000  100000.000000\n",
       "mean        0.500419       0.250143       2.502647      92.500000\n",
       "std         0.871832       0.504433       3.248248      44.288691\n",
       "min        -1.408605      -0.848218     -12.088328       0.000000\n",
       "25%        -0.072580      -0.200881       0.287748      56.497507\n",
       "50%         0.502360       0.250252       2.515969      91.849972\n",
       "75%         1.073581       0.700646       4.715088     128.564089\n",
       "max         2.362331       1.343769      16.003790     185.364347"
      ]
     },
     "execution_count": 39,
     "metadata": {},
     "output_type": "execute_result"
    }
   ],
   "source": [
    "region_0.describe()"
   ]
  },
  {
   "cell_type": "code",
   "execution_count": 40,
   "metadata": {},
   "outputs": [
    {
     "data": {
      "image/png": "[encoded data removed]",
      "text/plain": [
       "<Figure size 1400x400 with 2 Axes>"
      ]
     },
     "metadata": {},
     "output_type": "display_data"
    },
    {
     "data": {
      "image/png": "[encoded data removed]",
      "text/plain": [
       "<Figure size 1400x400 with 2 Axes>"
      ]
     },
     "metadata": {},
     "output_type": "display_data"
    },
    {
     "data": {
      "image/png": "[encoded data removed]",
      "text/plain": [
       "<Figure size 1400x400 with 2 Axes>"
      ]
     },
     "metadata": {},
     "output_type": "display_data"
    },
    {
     "data": {
      "image/png": "[encoded data removed]",
      "text/plain": [
       "<Figure size 1400x400 with 2 Axes>"
      ]
     },
     "metadata": {},
     "output_type": "display_data"
    }
   ],
   "source": [
    "plot(region_0)"
   ]
  },
  {
   "cell_type": "code",
   "execution_count": 41,
   "metadata": {},
   "outputs": [
    {
     "data": {
      "text/html": [
       "<div>\n",
       "<style scoped>\n",
       "    .dataframe tbody tr th:only-of-type {\n",
       "        vertical-align: middle;\n",
       "    }\n",
       "\n",
       "    .dataframe tbody tr th {\n",
       "        vertical-align: top;\n",
       "    }\n",
       "\n",
       "    .dataframe thead th {\n",
       "        text-align: right;\n",
       "    }\n",
       "</style>\n",
       "<table border=\"1\" class=\"dataframe\">\n",
       "  <thead>\n",
       "    <tr style=\"text-align: right;\">\n",
       "      <th></th>\n",
       "      <th>f0</th>\n",
       "      <th>f1</th>\n",
       "      <th>f2</th>\n",
       "      <th>product</th>\n",
       "    </tr>\n",
       "  </thead>\n",
       "  <tbody>\n",
       "    <tr>\n",
       "      <th>count</th>\n",
       "      <td>100000.000000</td>\n",
       "      <td>100000.000000</td>\n",
       "      <td>100000.000000</td>\n",
       "      <td>100000.000000</td>\n",
       "    </tr>\n",
       "    <tr>\n",
       "      <th>mean</th>\n",
       "      <td>1.141296</td>\n",
       "      <td>-4.796579</td>\n",
       "      <td>2.494541</td>\n",
       "      <td>68.825000</td>\n",
       "    </tr>\n",
       "    <tr>\n",
       "      <th>std</th>\n",
       "      <td>8.965932</td>\n",
       "      <td>5.119872</td>\n",
       "      <td>1.703572</td>\n",
       "      <td>45.944423</td>\n",
       "    </tr>\n",
       "    <tr>\n",
       "      <th>min</th>\n",
       "      <td>-31.609576</td>\n",
       "      <td>-26.358598</td>\n",
       "      <td>-0.018144</td>\n",
       "      <td>0.000000</td>\n",
       "    </tr>\n",
       "    <tr>\n",
       "      <th>25%</th>\n",
       "      <td>-6.298551</td>\n",
       "      <td>-8.267985</td>\n",
       "      <td>1.000021</td>\n",
       "      <td>26.953261</td>\n",
       "    </tr>\n",
       "    <tr>\n",
       "      <th>50%</th>\n",
       "      <td>1.153055</td>\n",
       "      <td>-4.813172</td>\n",
       "      <td>2.011479</td>\n",
       "      <td>57.085625</td>\n",
       "    </tr>\n",
       "    <tr>\n",
       "      <th>75%</th>\n",
       "      <td>8.621015</td>\n",
       "      <td>-1.332816</td>\n",
       "      <td>3.999904</td>\n",
       "      <td>107.813044</td>\n",
       "    </tr>\n",
       "    <tr>\n",
       "      <th>max</th>\n",
       "      <td>29.421755</td>\n",
       "      <td>18.734063</td>\n",
       "      <td>5.019721</td>\n",
       "      <td>137.945408</td>\n",
       "    </tr>\n",
       "  </tbody>\n",
       "</table>\n",
       "</div>"
      ],
      "text/plain": [
       "                  f0             f1             f2        product\n",
       "count  100000.000000  100000.000000  100000.000000  100000.000000\n",
       "mean        1.141296      -4.796579       2.494541      68.825000\n",
       "std         8.965932       5.119872       1.703572      45.944423\n",
       "min       -31.609576     -26.358598      -0.018144       0.000000\n",
       "25%        -6.298551      -8.267985       1.000021      26.953261\n",
       "50%         1.153055      -4.813172       2.011479      57.085625\n",
       "75%         8.621015      -1.332816       3.999904     107.813044\n",
       "max        29.421755      18.734063       5.019721     137.945408"
      ]
     },
     "execution_count": 41,
     "metadata": {},
     "output_type": "execute_result"
    }
   ],
   "source": [
    "region_1.describe()"
   ]
  },
  {
   "cell_type": "code",
   "execution_count": 42,
   "metadata": {},
   "outputs": [
    {
     "data": {
      "image/png": "[encoded data removed]",
      "text/plain": [
       "<Figure size 1400x400 with 2 Axes>"
      ]
     },
     "metadata": {},
     "output_type": "display_data"
    },
    {
     "data": {
      "image/png": "[encoded data removed]",
      "text/plain": [
       "<Figure size 1400x400 with 2 Axes>"
      ]
     },
     "metadata": {},
     "output_type": "display_data"
    },
    {
     "data": {
      "image/png": "[encoded data removed]",
      "text/plain": [
       "<Figure size 1400x400 with 2 Axes>"
      ]
     },
     "metadata": {},
     "output_type": "display_data"
    },
    {
     "data": {
      "image/png": "[encoded data removed]",
      "text/plain": [
       "<Figure size 1400x400 with 2 Axes>"
      ]
     },
     "metadata": {},
     "output_type": "display_data"
    }
   ],
   "source": [
    "plot(region_1)"
   ]
  },
  {
   "cell_type": "code",
   "execution_count": 43,
   "metadata": {},
   "outputs": [
    {
     "data": {
      "text/html": [
       "<div>\n",
       "<style scoped>\n",
       "    .dataframe tbody tr th:only-of-type {\n",
       "        vertical-align: middle;\n",
       "    }\n",
       "\n",
       "    .dataframe tbody tr th {\n",
       "        vertical-align: top;\n",
       "    }\n",
       "\n",
       "    .dataframe thead th {\n",
       "        text-align: right;\n",
       "    }\n",
       "</style>\n",
       "<table border=\"1\" class=\"dataframe\">\n",
       "  <thead>\n",
       "    <tr style=\"text-align: right;\">\n",
       "      <th></th>\n",
       "      <th>f0</th>\n",
       "      <th>f1</th>\n",
       "      <th>f2</th>\n",
       "      <th>product</th>\n",
       "    </tr>\n",
       "  </thead>\n",
       "  <tbody>\n",
       "    <tr>\n",
       "      <th>count</th>\n",
       "      <td>100000.000000</td>\n",
       "      <td>100000.000000</td>\n",
       "      <td>100000.000000</td>\n",
       "      <td>100000.000000</td>\n",
       "    </tr>\n",
       "    <tr>\n",
       "      <th>mean</th>\n",
       "      <td>0.002023</td>\n",
       "      <td>-0.002081</td>\n",
       "      <td>2.495128</td>\n",
       "      <td>95.000000</td>\n",
       "    </tr>\n",
       "    <tr>\n",
       "      <th>std</th>\n",
       "      <td>1.732045</td>\n",
       "      <td>1.730417</td>\n",
       "      <td>3.473445</td>\n",
       "      <td>44.749921</td>\n",
       "    </tr>\n",
       "    <tr>\n",
       "      <th>min</th>\n",
       "      <td>-8.760004</td>\n",
       "      <td>-7.084020</td>\n",
       "      <td>-11.970335</td>\n",
       "      <td>0.000000</td>\n",
       "    </tr>\n",
       "    <tr>\n",
       "      <th>25%</th>\n",
       "      <td>-1.162288</td>\n",
       "      <td>-1.174820</td>\n",
       "      <td>0.130359</td>\n",
       "      <td>59.450441</td>\n",
       "    </tr>\n",
       "    <tr>\n",
       "      <th>50%</th>\n",
       "      <td>0.009424</td>\n",
       "      <td>-0.009482</td>\n",
       "      <td>2.484236</td>\n",
       "      <td>94.925613</td>\n",
       "    </tr>\n",
       "    <tr>\n",
       "      <th>75%</th>\n",
       "      <td>1.158535</td>\n",
       "      <td>1.163678</td>\n",
       "      <td>4.858794</td>\n",
       "      <td>130.595027</td>\n",
       "    </tr>\n",
       "    <tr>\n",
       "      <th>max</th>\n",
       "      <td>7.238262</td>\n",
       "      <td>7.844801</td>\n",
       "      <td>16.739402</td>\n",
       "      <td>190.029838</td>\n",
       "    </tr>\n",
       "  </tbody>\n",
       "</table>\n",
       "</div>"
      ],
      "text/plain": [
       "                  f0             f1             f2        product\n",
       "count  100000.000000  100000.000000  100000.000000  100000.000000\n",
       "mean        0.002023      -0.002081       2.495128      95.000000\n",
       "std         1.732045       1.730417       3.473445      44.749921\n",
       "min        -8.760004      -7.084020     -11.970335       0.000000\n",
       "25%        -1.162288      -1.174820       0.130359      59.450441\n",
       "50%         0.009424      -0.009482       2.484236      94.925613\n",
       "75%         1.158535       1.163678       4.858794     130.595027\n",
       "max         7.238262       7.844801      16.739402     190.029838"
      ]
     },
     "execution_count": 43,
     "metadata": {},
     "output_type": "execute_result"
    }
   ],
   "source": [
    "region_2.describe()"
   ]
  },
  {
   "cell_type": "code",
   "execution_count": 44,
   "metadata": {},
   "outputs": [
    {
     "data": {
      "image/png": "[encoded data removed]",
      "text/plain": [
       "<Figure size 1400x400 with 2 Axes>"
      ]
     },
     "metadata": {},
     "output_type": "display_data"
    },
    {
     "data": {
      "image/png": "[encoded data removed]",
      "text/plain": [
       "<Figure size 1400x400 with 2 Axes>"
      ]
     },
     "metadata": {},
     "output_type": "display_data"
    },
    {
     "data": {
      "image/png": "[encoded data removed]",
      "text/plain": [
       "<Figure size 1400x400 with 2 Axes>"
      ]
     },
     "metadata": {},
     "output_type": "display_data"
    },
    {
     "data": {
      "image/png": "[encoded data removed]",
      "text/plain": [
       "<Figure size 1400x400 with 2 Axes>"
      ]
     },
     "metadata": {},
     "output_type": "display_data"
    }
   ],
   "source": [
    "plot(region_2)"
   ]
  },
  {
   "cell_type": "markdown",
   "metadata": {},
   "source": [
    "**Характер распределения признаков и диапазон значений различен в каждом из исследуемых регионов, т.е. каждый регион уникален, в связи с чем модели для предсказания объемов нефти будут обучаться на данных каждого региона по отдельности.  \n",
    "Максимальное значение средних запасов нефти наблюдается для региона №2.  \n",
    "Для некоторых исследуемых скважин характерно остсутсвие запасов нефти (product = 0).   \n",
    "В данных имеются выбросы, однако без понимания значения признаков считать их аномалиями и удалять не следует.**"
   ]
  },
  {
   "cell_type": "code",
   "execution_count": 46,
   "metadata": {},
   "outputs": [
    {
     "data": {
      "image/png": "[encoded data removed]",
      "text/plain": [
       "<Figure size 1000x500 with 2 Axes>"
      ]
     },
     "metadata": {},
     "output_type": "display_data"
    }
   ],
   "source": [
    "corr_matrix(region_0, 'Регион 0')"
   ]
  },
  {
   "cell_type": "code",
   "execution_count": 47,
   "metadata": {},
   "outputs": [
    {
     "data": {
      "image/png": "[encoded data removed]",
      "text/plain": [
       "<Figure size 1000x500 with 2 Axes>"
      ]
     },
     "metadata": {},
     "output_type": "display_data"
    }
   ],
   "source": [
    "corr_matrix(region_1, 'Регион 1')"
   ]
  },
  {
   "cell_type": "code",
   "execution_count": 48,
   "metadata": {},
   "outputs": [
    {
     "data": {
      "image/png": "[encoded data removed]",
      "text/plain": [
       "<Figure size 1000x500 with 2 Axes>"
      ]
     },
     "metadata": {},
     "output_type": "display_data"
    }
   ],
   "source": [
    "corr_matrix(region_2, 'Регион 2')"
   ]
  },
  {
   "cell_type": "markdown",
   "metadata": {},
   "source": [
    "**Мультиколлинеарности между входными признаками не наблюдается. Самым значимым признаком, влияющим на объем запасов нефти, является признак f2.**"
   ]
  },
  {
   "cell_type": "markdown",
   "metadata": {},
   "source": [
    "## Обучение и проверка модели"
   ]
  },
  {
   "cell_type": "markdown",
   "metadata": {},
   "source": [
    "### Регион 0"
   ]
  },
  {
   "cell_type": "code",
   "execution_count": 53,
   "metadata": {},
   "outputs": [
    {
     "name": "stdout",
     "output_type": "stream",
     "text": [
      "Размер тренировочных выборок: (75000, 3), (75000,).    Размер валидационных выборок (25000, 3), (25000,)\n"
     ]
    }
   ],
   "source": [
    "X_train_0, X_valid_0, y_train_0, y_valid_0 = df_split(region_0, 'product')"
   ]
  },
  {
   "cell_type": "code",
   "execution_count": 54,
   "metadata": {},
   "outputs": [
    {
     "name": "stdout",
     "output_type": "stream",
     "text": [
      "Оптимальные параметры модели Pipeline(steps=[('scaler', 'passthrough'), ('model', LinearRegression())])\n",
      "Метрика лучшей модели на кросс-валидации: 37.67\n"
     ]
    }
   ],
   "source": [
    "pipe_final = Pipeline([\n",
    "    ('scaler', 'passthrough'),  \n",
    "    ('model', LinearRegression())  \n",
    "])\n",
    "\n",
    "\n",
    "param = [\n",
    "    {\n",
    "        'scaler': [StandardScaler(), MinMaxScaler(), RobustScaler(), 'passthrough'] \n",
    "    }\n",
    "]\n",
    "\n",
    "gscv_0 = GridSearchCV(\n",
    "    pipe_final, \n",
    "    param_grid=param, \n",
    "    scoring=rmse_scorer, \n",
    "    n_jobs=-1\n",
    ")\n",
    "gscv_0.fit(X_train_0, y_train_0)\n",
    "\n",
    "print('Оптимальные параметры модели', gscv_0.best_estimator_)\n",
    "print ('Метрика лучшей модели на кросс-валидации:', -gscv_0.best_score_.round(2))"
   ]
  },
  {
   "cell_type": "code",
   "execution_count": 55,
   "metadata": {},
   "outputs": [
    {
     "name": "stdout",
     "output_type": "stream",
     "text": [
      "Регион 0\n",
      "Метрика RMSE на валидационной выборке: 37.76\n"
     ]
    },
    {
     "data": {
      "text/html": [
       "<div>\n",
       "<style scoped>\n",
       "    .dataframe tbody tr th:only-of-type {\n",
       "        vertical-align: middle;\n",
       "    }\n",
       "\n",
       "    .dataframe tbody tr th {\n",
       "        vertical-align: top;\n",
       "    }\n",
       "\n",
       "    .dataframe thead th {\n",
       "        text-align: right;\n",
       "    }\n",
       "</style>\n",
       "<table border=\"1\" class=\"dataframe\">\n",
       "  <thead>\n",
       "    <tr style=\"text-align: right;\">\n",
       "      <th></th>\n",
       "      <th>предсказанные_значения</th>\n",
       "      <th>реальные_значения</th>\n",
       "    </tr>\n",
       "    <tr>\n",
       "      <th>id</th>\n",
       "      <th></th>\n",
       "      <th></th>\n",
       "    </tr>\n",
       "  </thead>\n",
       "  <tbody>\n",
       "    <tr>\n",
       "      <th>7C6bA</th>\n",
       "      <td>101.901017</td>\n",
       "      <td>122.073350</td>\n",
       "    </tr>\n",
       "    <tr>\n",
       "      <th>dVxsn</th>\n",
       "      <td>78.217774</td>\n",
       "      <td>48.738540</td>\n",
       "    </tr>\n",
       "    <tr>\n",
       "      <th>1Gm3l</th>\n",
       "      <td>115.266901</td>\n",
       "      <td>131.338088</td>\n",
       "    </tr>\n",
       "    <tr>\n",
       "      <th>Nzg1t</th>\n",
       "      <td>105.618618</td>\n",
       "      <td>88.327757</td>\n",
       "    </tr>\n",
       "    <tr>\n",
       "      <th>Z7b4F</th>\n",
       "      <td>97.980185</td>\n",
       "      <td>36.959266</td>\n",
       "    </tr>\n",
       "  </tbody>\n",
       "</table>\n",
       "</div>"
      ],
      "text/plain": [
       "       предсказанные_значения  реальные_значения\n",
       "id                                              \n",
       "7C6bA              101.901017         122.073350\n",
       "dVxsn               78.217774          48.738540\n",
       "1Gm3l              115.266901         131.338088\n",
       "Nzg1t              105.618618          88.327757\n",
       "Z7b4F               97.980185          36.959266"
      ]
     },
     "metadata": {},
     "output_type": "display_data"
    },
    {
     "name": "stdout",
     "output_type": "stream",
     "text": [
      "Среднее значение предсказанных объемов нефти составило 92.399 тыс. баррелей\n"
     ]
    }
   ],
   "source": [
    "result_0 = predict(gscv_0.best_estimator_, X_valid_0, y_valid_0, 'Регион 0')"
   ]
  },
  {
   "cell_type": "markdown",
   "metadata": {},
   "source": [
    "### Регион 1"
   ]
  },
  {
   "cell_type": "code",
   "execution_count": 57,
   "metadata": {},
   "outputs": [
    {
     "name": "stdout",
     "output_type": "stream",
     "text": [
      "Размер тренировочных выборок: (75000, 3), (75000,).    Размер валидационных выборок (25000, 3), (25000,)\n"
     ]
    }
   ],
   "source": [
    "X_train_1, X_valid_1, y_train_1, y_valid_1 = df_split(region_1, 'product')"
   ]
  },
  {
   "cell_type": "code",
   "execution_count": 58,
   "metadata": {},
   "outputs": [
    {
     "name": "stdout",
     "output_type": "stream",
     "text": [
      "Оптимальные параметры модели Pipeline(steps=[('scaler', MinMaxScaler()), ('model', LinearRegression())])\n",
      "Метрика лучшей модели на кросс-валидации: 0.89\n"
     ]
    }
   ],
   "source": [
    "gscv_1 = GridSearchCV(\n",
    "    pipe_final, \n",
    "    param_grid=param, \n",
    "    scoring=rmse_scorer, \n",
    "    n_jobs=-1\n",
    ")\n",
    "gscv_1.fit(X_train_1, y_train_1)\n",
    "\n",
    "print('Оптимальные параметры модели', gscv_1.best_estimator_)\n",
    "print ('Метрика лучшей модели на кросс-валидации:', -gscv_1.best_score_.round(2))"
   ]
  },
  {
   "cell_type": "code",
   "execution_count": 59,
   "metadata": {},
   "outputs": [
    {
     "name": "stdout",
     "output_type": "stream",
     "text": [
      "Регион 1\n",
      "Метрика RMSE на валидационной выборке: 0.89\n"
     ]
    },
    {
     "data": {
      "text/html": [
       "<div>\n",
       "<style scoped>\n",
       "    .dataframe tbody tr th:only-of-type {\n",
       "        vertical-align: middle;\n",
       "    }\n",
       "\n",
       "    .dataframe tbody tr th {\n",
       "        vertical-align: top;\n",
       "    }\n",
       "\n",
       "    .dataframe thead th {\n",
       "        text-align: right;\n",
       "    }\n",
       "</style>\n",
       "<table border=\"1\" class=\"dataframe\">\n",
       "  <thead>\n",
       "    <tr style=\"text-align: right;\">\n",
       "      <th></th>\n",
       "      <th>предсказанные_значения</th>\n",
       "      <th>реальные_значения</th>\n",
       "    </tr>\n",
       "    <tr>\n",
       "      <th>id</th>\n",
       "      <th></th>\n",
       "      <th></th>\n",
       "    </tr>\n",
       "  </thead>\n",
       "  <tbody>\n",
       "    <tr>\n",
       "      <th>fYVDK</th>\n",
       "      <td>0.844738</td>\n",
       "      <td>0.000000</td>\n",
       "    </tr>\n",
       "    <tr>\n",
       "      <th>3SQcq</th>\n",
       "      <td>52.921612</td>\n",
       "      <td>53.906522</td>\n",
       "    </tr>\n",
       "    <tr>\n",
       "      <th>hQ1gJ</th>\n",
       "      <td>135.110385</td>\n",
       "      <td>134.766305</td>\n",
       "    </tr>\n",
       "    <tr>\n",
       "      <th>Y4vux</th>\n",
       "      <td>109.494863</td>\n",
       "      <td>107.813044</td>\n",
       "    </tr>\n",
       "    <tr>\n",
       "      <th>H1NUw</th>\n",
       "      <td>-0.047292</td>\n",
       "      <td>0.000000</td>\n",
       "    </tr>\n",
       "  </tbody>\n",
       "</table>\n",
       "</div>"
      ],
      "text/plain": [
       "       предсказанные_значения  реальные_значения\n",
       "id                                              \n",
       "fYVDK                0.844738           0.000000\n",
       "3SQcq               52.921612          53.906522\n",
       "hQ1gJ              135.110385         134.766305\n",
       "Y4vux              109.494863         107.813044\n",
       "H1NUw               -0.047292           0.000000"
      ]
     },
     "metadata": {},
     "output_type": "display_data"
    },
    {
     "name": "stdout",
     "output_type": "stream",
     "text": [
      "Среднее значение предсказанных объемов нефти составило 68.713 тыс. баррелей\n"
     ]
    }
   ],
   "source": [
    "result_1 = predict(gscv_1.best_estimator_, X_valid_1, y_valid_1, 'Регион 1')"
   ]
  },
  {
   "cell_type": "markdown",
   "metadata": {},
   "source": [
    "### Регион 2"
   ]
  },
  {
   "cell_type": "code",
   "execution_count": 61,
   "metadata": {},
   "outputs": [
    {
     "name": "stdout",
     "output_type": "stream",
     "text": [
      "Размер тренировочных выборок: (75000, 3), (75000,).    Размер валидационных выборок (25000, 3), (25000,)\n"
     ]
    }
   ],
   "source": [
    "X_train_2, X_valid_2, y_train_2, y_valid_2 = df_split(region_2, 'product')"
   ]
  },
  {
   "cell_type": "code",
   "execution_count": 62,
   "metadata": {},
   "outputs": [
    {
     "name": "stdout",
     "output_type": "stream",
     "text": [
      "Оптимальные параметры модели Pipeline(steps=[('scaler', StandardScaler()), ('model', LinearRegression())])\n",
      "Метрика лучшей модели на кросс-валидации: 40.03\n"
     ]
    }
   ],
   "source": [
    "gscv_2 = GridSearchCV(\n",
    "    pipe_final, \n",
    "    param_grid=param, \n",
    "    scoring=rmse_scorer, \n",
    "    n_jobs=-1\n",
    ")\n",
    "gscv_2.fit(X_train_2, y_train_2)\n",
    "\n",
    "print('Оптимальные параметры модели', gscv_2.best_estimator_)\n",
    "print ('Метрика лучшей модели на кросс-валидации:', -gscv_2.best_score_.round(2))"
   ]
  },
  {
   "cell_type": "code",
   "execution_count": 63,
   "metadata": {},
   "outputs": [
    {
     "name": "stdout",
     "output_type": "stream",
     "text": [
      "Регион 2\n",
      "Метрика RMSE на валидационной выборке: 40.15\n"
     ]
    },
    {
     "data": {
      "text/html": [
       "<div>\n",
       "<style scoped>\n",
       "    .dataframe tbody tr th:only-of-type {\n",
       "        vertical-align: middle;\n",
       "    }\n",
       "\n",
       "    .dataframe tbody tr th {\n",
       "        vertical-align: top;\n",
       "    }\n",
       "\n",
       "    .dataframe thead th {\n",
       "        text-align: right;\n",
       "    }\n",
       "</style>\n",
       "<table border=\"1\" class=\"dataframe\">\n",
       "  <thead>\n",
       "    <tr style=\"text-align: right;\">\n",
       "      <th></th>\n",
       "      <th>предсказанные_значения</th>\n",
       "      <th>реальные_значения</th>\n",
       "    </tr>\n",
       "    <tr>\n",
       "      <th>id</th>\n",
       "      <th></th>\n",
       "      <th></th>\n",
       "    </tr>\n",
       "  </thead>\n",
       "  <tbody>\n",
       "    <tr>\n",
       "      <th>sPjbT</th>\n",
       "      <td>98.301916</td>\n",
       "      <td>117.441301</td>\n",
       "    </tr>\n",
       "    <tr>\n",
       "      <th>1u4uo</th>\n",
       "      <td>101.592461</td>\n",
       "      <td>47.841249</td>\n",
       "    </tr>\n",
       "    <tr>\n",
       "      <th>kZ6HO</th>\n",
       "      <td>52.449099</td>\n",
       "      <td>45.883483</td>\n",
       "    </tr>\n",
       "    <tr>\n",
       "      <th>gCZGK</th>\n",
       "      <td>109.922127</td>\n",
       "      <td>139.014608</td>\n",
       "    </tr>\n",
       "    <tr>\n",
       "      <th>rqJHx</th>\n",
       "      <td>72.411847</td>\n",
       "      <td>84.004276</td>\n",
       "    </tr>\n",
       "  </tbody>\n",
       "</table>\n",
       "</div>"
      ],
      "text/plain": [
       "       предсказанные_значения  реальные_значения\n",
       "id                                              \n",
       "sPjbT               98.301916         117.441301\n",
       "1u4uo              101.592461          47.841249\n",
       "kZ6HO               52.449099          45.883483\n",
       "gCZGK              109.922127         139.014608\n",
       "rqJHx               72.411847          84.004276"
      ]
     },
     "metadata": {},
     "output_type": "display_data"
    },
    {
     "name": "stdout",
     "output_type": "stream",
     "text": [
      "Среднее значение предсказанных объемов нефти составило 94.771 тыс. баррелей\n"
     ]
    }
   ],
   "source": [
    "result_2 = predict(gscv_2.best_estimator_, X_valid_2, y_valid_2, 'Регион 2')"
   ]
  },
  {
   "cell_type": "markdown",
   "metadata": {},
   "source": [
    "**Разработы линейные модели, прогнозирующие объемы запасов нефти в скважинах, на основе входных признаков f0, f1 и f2. Рассчитаны средние значения предсказанных объемов нефти. Получены следующие результаты:**\n",
    "- Регион 0.\n",
    "Среднее значение предсказанных объемов нефти составило 92.399 тыс. баррелей, RMSE = 37.76.\n",
    "- Регион 1.\n",
    "Среднее значение предсказанных объемов нефти составило 68.713 тыс. баррелей, RMSE = 0.89.\n",
    "- Регион 2.\n",
    "Среднее значение предсказанных объемов нефти составило 94.771 тыс. баррелей, RMSE = 40.15.\n",
    "\n",
    "**Таким образом, максимальные запасы нефти спрогнозированы для региона 2.  \n",
    "Однако наиболее точные прогнозы получены для региона 1, где средняя ошибка прогнозов составила всего 0.89 тыс. баррелей, что, вероятно, связано с очень высокой корреляцией объемов нефти с входным признаком f2 в данном регионе.**\n",
    "\n",
    "**Данные с предсказаниями и реальными значениями объемов нефти для каждого из регионов сохранены в result_0, result_1 и result_2.**"
   ]
  },
  {
   "cell_type": "markdown",
   "metadata": {},
   "source": [
    "## Подготовка к расчёту прибыли"
   ]
  },
  {
   "cell_type": "code",
   "execution_count": 67,
   "metadata": {},
   "outputs": [],
   "source": [
    "BUDGET = 10*(10**9)          # бюджет на разработку\n",
    "COST_1000_BARREL = 450000    # стоимость 1 тыс. баррелей\n",
    "MAX_WELL = 500               # количество исследуемых скважин\n",
    "TARGET_WELL = 200            # количество скважин для разработки"
   ]
  },
  {
   "cell_type": "code",
   "execution_count": 68,
   "metadata": {},
   "outputs": [
    {
     "data": {
      "text/plain": [
       "22222.222222222223"
      ]
     },
     "execution_count": 68,
     "metadata": {},
     "output_type": "execute_result"
    }
   ],
   "source": [
    "min_volume = BUDGET/COST_1000_BARREL\n",
    "min_volume"
   ]
  },
  {
   "cell_type": "code",
   "execution_count": 69,
   "metadata": {},
   "outputs": [
    {
     "data": {
      "text/plain": [
       "111.11111111111111"
      ]
     },
     "execution_count": 69,
     "metadata": {},
     "output_type": "execute_result"
    }
   ],
   "source": [
    "average_volume_per_well = min_volume/TARGET_WELL\n",
    "average_volume_per_well"
   ]
  },
  {
   "cell_type": "markdown",
   "metadata": {},
   "source": [
    "**Общий объем добытой нефти для безубыточной разработки должен составить не менее 22222.222 тыс. баррелей.   \n",
    "В среднем из каждой из 200 скважин должно быть получено не менее 111.111 тыс. баррелей нефти.  \n",
    "Средние спрогнозированные значения объемов нефти в каждом из регионов меньше 111.111 тыс. баррелей, однако при расчетах использовались данные по всем скважинам, а не по скважинам с максимальными запасами нефти.**"
   ]
  },
  {
   "cell_type": "markdown",
   "metadata": {},
   "source": [
    "## Расчёт прибыли и рисков "
   ]
  },
  {
   "cell_type": "code",
   "execution_count": 74,
   "metadata": {},
   "outputs": [],
   "source": [
    "def income(df):\n",
    "    top_wells = df.sort_values(by='предсказанные_значения', ascending=False)[:TARGET_WELL] \n",
    "    sum_oil = sum(top_wells['реальные_значения']) \n",
    "    return (sum_oil*COST_1000_BARREL-BUDGET)"
   ]
  },
  {
   "cell_type": "markdown",
   "metadata": {},
   "source": [
    "Написана функция для расчета прибыли: отбирается 200 скважин с максимальными предсказанными запасами нефти, для выбранных скважин проводится расчет прибыли с учетом реальных запасов нефти. Отбор случайных 500 скважин из всего набора данных будет произведен методом бутстрепа."
   ]
  },
  {
   "cell_type": "code",
   "execution_count": 76,
   "metadata": {},
   "outputs": [],
   "source": [
    "def risk(df, region):\n",
    "\n",
    "    values = []\n",
    "\n",
    "    for i in range(1000):\n",
    "        sample_wells = df.sample(n=MAX_WELL, replace=True, random_state=state)\n",
    "        values.append(income(sample_wells))\n",
    "\n",
    "    values = pd.Series(values)\n",
    "    \n",
    "    lower = (values.quantile(0.025)/1000).round(1)\n",
    "    upper = (values.quantile(0.975)/1000).round(1)\n",
    "\n",
    "    mean = (values.mean()/1000).round(1)\n",
    "    \n",
    "    negative_profit = (values < 0).mean()*100\n",
    "    \n",
    "    print(f'Средняя прибыль ({region}): {mean} тыс. руб')\n",
    "    print(f'95%-й доверительный интервал: ({lower} - {upper}) тыс. руб')\n",
    "    print(f'Вероятность убытка: {negative_profit} %')"
   ]
  },
  {
   "cell_type": "markdown",
   "metadata": {},
   "source": [
    "Написана функция выполняющая расчет средней прибыли и рисков методом бутстрепа: из всех скважин в регионе случайным образом отбирается 500, по которым проводится расчет прибыли с помощью ранее написанной функции, данная итерация повторяется 1000 раз, таким образом высчитывается средняя прибыль при разработке в конкретном регионе, определяются доверительные интервалы, а также оцениваются риски, как отношение количества результатов с отрицательной прибылью к общему количеству результатов (1000)."
   ]
  },
  {
   "cell_type": "code",
   "execution_count": 78,
   "metadata": {},
   "outputs": [
    {
     "name": "stdout",
     "output_type": "stream",
     "text": [
      "Средняя прибыль (Регион 0): 406278.8 тыс. руб\n",
      "95%-й доверительный интервал: (-117742.1 - 911737.1) тыс. руб\n",
      "Вероятность убытка: 6.7 %\n"
     ]
    }
   ],
   "source": [
    "risk(result_0, 'Регион 0')"
   ]
  },
  {
   "cell_type": "code",
   "execution_count": 79,
   "metadata": {},
   "outputs": [
    {
     "name": "stdout",
     "output_type": "stream",
     "text": [
      "Средняя прибыль (Регион 1): 441504.3 тыс. руб\n",
      "95%-й доверительный интервал: (35728.5 - 828006.6) тыс. руб\n",
      "Вероятность убытка: 1.6 %\n"
     ]
    }
   ],
   "source": [
    "risk(result_1, 'Регион 1')"
   ]
  },
  {
   "cell_type": "code",
   "execution_count": 80,
   "metadata": {},
   "outputs": [
    {
     "name": "stdout",
     "output_type": "stream",
     "text": [
      "Средняя прибыль (Регион 2): 385213.2 тыс. руб\n",
      "95%-й доверительный интервал: (-164785.2 - 888206.2) тыс. руб\n",
      "Вероятность убытка: 7.8 %\n"
     ]
    }
   ],
   "source": [
    "risk(result_2, 'Регион 2')"
   ]
  },
  {
   "cell_type": "markdown",
   "metadata": {},
   "source": [
    "**Методом бутстрепа был смоделирован отбор 500 скважин в каждом из регионов и оценена средняя прибыль и вероятность убытков. Полученные результаты для региона 0 и региона 2 демонстрируют высокую веротность убытков в данных регионах (более 2,5 %).   Наиболее перспективным для разработок является регион 1, где прогнозируется самая высокая прибыль и минимальный риск убытков.**"
   ]
  },
  {
   "cell_type": "markdown",
   "metadata": {},
   "source": [
    "## Общий вывод"
   ]
  },
  {
   "cell_type": "markdown",
   "metadata": {},
   "source": [
    "- **Были получены данные, содержащие информацию о характеристиках скважин в трех регионах (регион 0, регион 1, регион 2).**\n",
    "- **Для каждого из регионов была построена линейная модель, предсказывающая объемы запасов нефти. Наиболее точные прогнозы получены для региона 1.**\n",
    "- **Методом бутстрепа смоделирован отбор 500 случайных скважин в каждом из регионов, из которых выбиралось 200 скважин с максимальными предсказанными объемами запасов нефти. Была вычислена средняя прибыль, доверительные интервалы и вероятность убытков.**\n",
    "- **Показано, что наиболее преспективным для разработок является регион 1, средняя спрогнозированная прибыль, в котором составила 441504.3 тыс. руб, а риск получения убытков составил 1.6 % (риски для других регионов значительно выше).**"
   ]
  }
 ],
 "metadata": {
  "ExecuteTimeLog": [
   {
    "duration": 4,
    "start_time": "2024-09-20T17:15:20.614Z"
   },
   {
    "duration": 3,
    "start_time": "2024-09-20T17:17:45.073Z"
   },
   {
    "duration": 3,
    "start_time": "2024-09-20T17:18:59.592Z"
   },
   {
    "duration": 3498,
    "start_time": "2024-09-20T17:22:08.929Z"
   },
   {
    "duration": 3609,
    "start_time": "2024-09-20T17:22:22.569Z"
   },
   {
    "duration": 2433,
    "start_time": "2024-09-20T17:23:41.530Z"
   },
   {
    "duration": 3347,
    "start_time": "2024-09-20T17:24:03.950Z"
   },
   {
    "duration": 45,
    "start_time": "2024-09-20T17:24:10.343Z"
   },
   {
    "duration": 586,
    "start_time": "2024-09-20T17:28:04.196Z"
   },
   {
    "duration": 3,
    "start_time": "2024-09-20T17:28:34.554Z"
   },
   {
    "duration": 180,
    "start_time": "2024-09-20T17:28:48.883Z"
   },
   {
    "duration": 257,
    "start_time": "2024-09-20T17:29:31.376Z"
   },
   {
    "duration": 3,
    "start_time": "2024-09-20T17:31:05.712Z"
   },
   {
    "duration": 3,
    "start_time": "2024-09-20T17:31:12.347Z"
   },
   {
    "duration": 183,
    "start_time": "2024-09-20T17:31:14.785Z"
   },
   {
    "duration": 4,
    "start_time": "2024-09-20T17:31:30.861Z"
   },
   {
    "duration": 191,
    "start_time": "2024-09-20T17:31:33.713Z"
   },
   {
    "duration": 4,
    "start_time": "2024-09-20T17:31:44.154Z"
   },
   {
    "duration": 175,
    "start_time": "2024-09-20T17:31:46.677Z"
   },
   {
    "duration": 68,
    "start_time": "2024-09-20T17:32:06.552Z"
   },
   {
    "duration": 63,
    "start_time": "2024-09-20T17:32:15.242Z"
   },
   {
    "duration": 4,
    "start_time": "2024-09-20T17:33:19.740Z"
   },
   {
    "duration": 192,
    "start_time": "2024-09-20T17:33:21.232Z"
   },
   {
    "duration": 3,
    "start_time": "2024-09-20T17:34:20.996Z"
   },
   {
    "duration": 174,
    "start_time": "2024-09-20T17:34:23.120Z"
   },
   {
    "duration": 3,
    "start_time": "2024-09-20T17:34:34.876Z"
   },
   {
    "duration": 4,
    "start_time": "2024-09-20T17:35:01.995Z"
   },
   {
    "duration": 177,
    "start_time": "2024-09-20T17:35:03.618Z"
   },
   {
    "duration": 170,
    "start_time": "2024-09-20T17:35:48.109Z"
   },
   {
    "duration": 4,
    "start_time": "2024-09-20T17:36:16.045Z"
   },
   {
    "duration": 176,
    "start_time": "2024-09-20T17:36:18.847Z"
   },
   {
    "duration": 178,
    "start_time": "2024-09-20T17:36:21.480Z"
   },
   {
    "duration": 267,
    "start_time": "2024-09-20T17:36:41.025Z"
   },
   {
    "duration": 64,
    "start_time": "2024-09-20T17:49:49.667Z"
   },
   {
    "duration": 34,
    "start_time": "2024-09-20T17:50:15.345Z"
   },
   {
    "duration": 2,
    "start_time": "2024-09-20T17:52:48.203Z"
   },
   {
    "duration": 5,
    "start_time": "2024-09-20T17:55:38.726Z"
   },
   {
    "duration": 3431,
    "start_time": "2024-09-20T17:55:49.836Z"
   },
   {
    "duration": 39,
    "start_time": "2024-09-20T17:58:01.269Z"
   },
   {
    "duration": 17,
    "start_time": "2024-09-20T18:50:21.793Z"
   },
   {
    "duration": 33,
    "start_time": "2024-09-20T18:50:36.501Z"
   },
   {
    "duration": 46,
    "start_time": "2024-09-20T18:50:44.018Z"
   },
   {
    "duration": 48,
    "start_time": "2024-09-20T18:50:51.316Z"
   },
   {
    "duration": 71,
    "start_time": "2024-09-20T18:51:51.795Z"
   },
   {
    "duration": 68,
    "start_time": "2024-09-20T18:51:59.718Z"
   },
   {
    "duration": 4,
    "start_time": "2024-09-20T18:52:02.770Z"
   },
   {
    "duration": 234,
    "start_time": "2024-09-20T18:52:06.732Z"
   },
   {
    "duration": 207,
    "start_time": "2024-09-20T18:52:11.453Z"
   },
   {
    "duration": 224,
    "start_time": "2024-09-20T18:52:13.688Z"
   },
   {
    "duration": 26,
    "start_time": "2024-09-20T18:53:49.105Z"
   },
   {
    "duration": 4,
    "start_time": "2024-09-20T18:54:14.196Z"
   },
   {
    "duration": 255,
    "start_time": "2024-09-20T18:54:17.722Z"
   },
   {
    "duration": 212,
    "start_time": "2024-09-20T18:54:19.699Z"
   },
   {
    "duration": 214,
    "start_time": "2024-09-20T18:54:24.040Z"
   },
   {
    "duration": 37,
    "start_time": "2024-09-20T18:56:18.117Z"
   },
   {
    "duration": 3202,
    "start_time": "2024-09-20T18:56:29.208Z"
   },
   {
    "duration": 333,
    "start_time": "2024-09-20T18:58:11.681Z"
   },
   {
    "duration": 4,
    "start_time": "2024-09-20T18:58:44.522Z"
   },
   {
    "duration": 2595,
    "start_time": "2024-09-20T18:58:51.102Z"
   },
   {
    "duration": 2604,
    "start_time": "2024-09-20T18:58:53.700Z"
   },
   {
    "duration": 2626,
    "start_time": "2024-09-20T18:58:56.307Z"
   },
   {
    "duration": 1574,
    "start_time": "2024-09-20T18:58:58.935Z"
   },
   {
    "duration": 4,
    "start_time": "2024-09-20T18:59:00.512Z"
   },
   {
    "duration": 33,
    "start_time": "2024-09-20T18:59:00.517Z"
   },
   {
    "duration": 583,
    "start_time": "2024-09-20T18:59:00.551Z"
   },
   {
    "duration": 420,
    "start_time": "2024-09-20T18:59:01.135Z"
   },
   {
    "duration": 559,
    "start_time": "2024-09-20T18:59:01.556Z"
   },
   {
    "duration": 594,
    "start_time": "2024-09-20T18:59:02.116Z"
   },
   {
    "duration": 32,
    "start_time": "2024-09-20T18:59:02.711Z"
   },
   {
    "duration": 32,
    "start_time": "2024-09-20T18:59:02.744Z"
   },
   {
    "duration": 128,
    "start_time": "2024-09-20T18:59:02.778Z"
   },
   {
    "duration": 0,
    "start_time": "2024-09-20T18:59:02.908Z"
   },
   {
    "duration": 0,
    "start_time": "2024-09-20T18:59:02.909Z"
   },
   {
    "duration": 0,
    "start_time": "2024-09-20T18:59:02.910Z"
   },
   {
    "duration": 0,
    "start_time": "2024-09-20T18:59:02.911Z"
   },
   {
    "duration": 5,
    "start_time": "2024-09-20T18:59:34.213Z"
   },
   {
    "duration": 2573,
    "start_time": "2024-09-20T19:00:38.628Z"
   },
   {
    "duration": 2617,
    "start_time": "2024-09-20T19:00:41.204Z"
   },
   {
    "duration": 2659,
    "start_time": "2024-09-20T19:00:43.824Z"
   },
   {
    "duration": 1592,
    "start_time": "2024-09-20T19:00:46.485Z"
   },
   {
    "duration": 4,
    "start_time": "2024-09-20T19:00:48.080Z"
   },
   {
    "duration": 31,
    "start_time": "2024-09-20T19:00:48.085Z"
   },
   {
    "duration": 244,
    "start_time": "2024-09-20T19:00:48.118Z"
   },
   {
    "duration": 200,
    "start_time": "2024-09-20T19:00:48.364Z"
   },
   {
    "duration": 214,
    "start_time": "2024-09-20T19:00:48.566Z"
   },
   {
    "duration": 43,
    "start_time": "2024-09-20T19:00:48.782Z"
   },
   {
    "duration": 28,
    "start_time": "2024-09-20T19:00:48.827Z"
   },
   {
    "duration": 35,
    "start_time": "2024-09-20T19:00:48.857Z"
   },
   {
    "duration": 62,
    "start_time": "2024-09-20T19:00:48.894Z"
   },
   {
    "duration": 3310,
    "start_time": "2024-09-20T19:00:48.959Z"
   },
   {
    "duration": 37,
    "start_time": "2024-09-20T19:00:52.270Z"
   },
   {
    "duration": 3419,
    "start_time": "2024-09-20T19:00:52.308Z"
   },
   {
    "duration": 38,
    "start_time": "2024-09-20T19:01:40.607Z"
   },
   {
    "duration": 3747,
    "start_time": "2024-09-20T19:01:51.302Z"
   },
   {
    "duration": 4897,
    "start_time": "2024-09-21T14:31:15.577Z"
   },
   {
    "duration": 3456,
    "start_time": "2024-09-21T14:31:20.476Z"
   },
   {
    "duration": 1857,
    "start_time": "2024-09-21T14:31:23.934Z"
   },
   {
    "duration": 6,
    "start_time": "2024-09-21T14:31:25.792Z"
   },
   {
    "duration": 34,
    "start_time": "2024-09-21T14:31:25.800Z"
   },
   {
    "duration": 621,
    "start_time": "2024-09-21T14:31:25.835Z"
   },
   {
    "duration": 314,
    "start_time": "2024-09-21T14:31:26.459Z"
   },
   {
    "duration": 290,
    "start_time": "2024-09-21T14:31:26.775Z"
   },
   {
    "duration": 47,
    "start_time": "2024-09-21T14:31:27.067Z"
   },
   {
    "duration": 58,
    "start_time": "2024-09-21T14:31:27.116Z"
   },
   {
    "duration": 36,
    "start_time": "2024-09-21T14:31:27.176Z"
   },
   {
    "duration": 60,
    "start_time": "2024-09-21T14:31:27.214Z"
   },
   {
    "duration": 940,
    "start_time": "2024-09-21T14:31:27.275Z"
   },
   {
    "duration": 0,
    "start_time": "2024-09-21T14:31:28.216Z"
   },
   {
    "duration": 0,
    "start_time": "2024-09-21T14:31:28.218Z"
   },
   {
    "duration": 0,
    "start_time": "2024-09-21T14:31:28.219Z"
   },
   {
    "duration": 0,
    "start_time": "2024-09-21T14:31:28.220Z"
   },
   {
    "duration": 4,
    "start_time": "2024-09-21T14:31:52.918Z"
   },
   {
    "duration": 824,
    "start_time": "2024-09-21T14:31:58.016Z"
   },
   {
    "duration": 5,
    "start_time": "2024-09-21T14:33:03.906Z"
   },
   {
    "duration": 3302,
    "start_time": "2024-09-21T14:33:06.571Z"
   },
   {
    "duration": 2617,
    "start_time": "2024-09-21T14:35:33.221Z"
   },
   {
    "duration": 2587,
    "start_time": "2024-09-21T14:35:35.841Z"
   },
   {
    "duration": 1523,
    "start_time": "2024-09-21T14:35:38.430Z"
   },
   {
    "duration": 4,
    "start_time": "2024-09-21T14:35:39.954Z"
   },
   {
    "duration": 21,
    "start_time": "2024-09-21T14:35:39.961Z"
   },
   {
    "duration": 228,
    "start_time": "2024-09-21T14:35:39.984Z"
   },
   {
    "duration": 196,
    "start_time": "2024-09-21T14:35:40.214Z"
   },
   {
    "duration": 212,
    "start_time": "2024-09-21T14:35:40.412Z"
   },
   {
    "duration": 50,
    "start_time": "2024-09-21T14:35:40.625Z"
   },
   {
    "duration": 27,
    "start_time": "2024-09-21T14:35:40.677Z"
   },
   {
    "duration": 51,
    "start_time": "2024-09-21T14:35:40.705Z"
   },
   {
    "duration": 41,
    "start_time": "2024-09-21T14:35:40.758Z"
   },
   {
    "duration": 3374,
    "start_time": "2024-09-21T14:35:40.800Z"
   },
   {
    "duration": 37,
    "start_time": "2024-09-21T14:35:44.177Z"
   },
   {
    "duration": 3349,
    "start_time": "2024-09-21T14:35:44.216Z"
   },
   {
    "duration": 37,
    "start_time": "2024-09-21T14:35:47.567Z"
   },
   {
    "duration": 3671,
    "start_time": "2024-09-21T14:35:47.606Z"
   },
   {
    "duration": 58,
    "start_time": "2024-09-21T14:44:08.738Z"
   },
   {
    "duration": 4,
    "start_time": "2024-09-21T14:44:33.425Z"
   },
   {
    "duration": 62,
    "start_time": "2024-09-21T14:45:07.850Z"
   },
   {
    "duration": 129,
    "start_time": "2024-09-21T14:45:15.285Z"
   },
   {
    "duration": 476,
    "start_time": "2024-09-21T14:45:28.203Z"
   },
   {
    "duration": 421,
    "start_time": "2024-09-21T14:45:33.028Z"
   },
   {
    "duration": 416,
    "start_time": "2024-09-21T14:45:52.037Z"
   },
   {
    "duration": 448,
    "start_time": "2024-09-21T14:46:08.006Z"
   },
   {
    "duration": 6,
    "start_time": "2024-09-21T14:48:42.583Z"
   },
   {
    "duration": 438,
    "start_time": "2024-09-21T14:48:49.211Z"
   },
   {
    "duration": 417,
    "start_time": "2024-09-21T14:48:51.613Z"
   },
   {
    "duration": 591,
    "start_time": "2024-09-21T14:48:54.559Z"
   },
   {
    "duration": 3,
    "start_time": "2024-09-21T14:53:53.386Z"
   },
   {
    "duration": 3,
    "start_time": "2024-09-21T14:55:31.905Z"
   },
   {
    "duration": 4,
    "start_time": "2024-09-21T14:59:52.825Z"
   },
   {
    "duration": 49,
    "start_time": "2024-09-21T15:00:24.036Z"
   },
   {
    "duration": 5,
    "start_time": "2024-09-21T15:04:54.055Z"
   },
   {
    "duration": 5,
    "start_time": "2024-09-21T15:05:06.770Z"
   },
   {
    "duration": 38,
    "start_time": "2024-09-21T15:09:28.068Z"
   },
   {
    "duration": 5,
    "start_time": "2024-09-21T15:10:16.590Z"
   },
   {
    "duration": 27,
    "start_time": "2024-09-21T15:10:20.868Z"
   },
   {
    "duration": 20,
    "start_time": "2024-09-21T15:19:49.350Z"
   },
   {
    "duration": 46,
    "start_time": "2024-09-21T15:22:11.107Z"
   },
   {
    "duration": 3993,
    "start_time": "2024-09-21T15:25:30.269Z"
   },
   {
    "duration": 3975,
    "start_time": "2024-09-21T15:27:58.284Z"
   },
   {
    "duration": 21,
    "start_time": "2024-09-21T15:28:17.726Z"
   },
   {
    "duration": 3,
    "start_time": "2024-09-21T15:30:05.084Z"
   },
   {
    "duration": 4053,
    "start_time": "2024-09-21T15:30:24.501Z"
   },
   {
    "duration": 4009,
    "start_time": "2024-09-21T15:33:35.451Z"
   },
   {
    "duration": 16,
    "start_time": "2024-09-21T15:44:22.188Z"
   },
   {
    "duration": 17,
    "start_time": "2024-09-21T15:44:51.933Z"
   },
   {
    "duration": 4,
    "start_time": "2024-09-21T15:46:10.285Z"
   },
   {
    "duration": 13,
    "start_time": "2024-09-21T15:46:16.598Z"
   },
   {
    "duration": 14,
    "start_time": "2024-09-21T15:47:09.767Z"
   },
   {
    "duration": 11,
    "start_time": "2024-09-21T15:47:34.685Z"
   },
   {
    "duration": 9,
    "start_time": "2024-09-21T15:47:46.449Z"
   },
   {
    "duration": 5,
    "start_time": "2024-09-21T15:50:14.652Z"
   },
   {
    "duration": 6,
    "start_time": "2024-09-21T15:54:49.962Z"
   },
   {
    "duration": 9,
    "start_time": "2024-09-21T15:54:59.571Z"
   },
   {
    "duration": 58,
    "start_time": "2024-09-21T15:56:40.197Z"
   },
   {
    "duration": 4,
    "start_time": "2024-09-21T15:57:03.811Z"
   },
   {
    "duration": 58,
    "start_time": "2024-09-21T15:58:08.804Z"
   },
   {
    "duration": 4,
    "start_time": "2024-09-21T15:58:12.679Z"
   },
   {
    "duration": 5,
    "start_time": "2024-09-21T15:58:46.159Z"
   },
   {
    "duration": 60,
    "start_time": "2024-09-21T15:59:53.466Z"
   },
   {
    "duration": 65,
    "start_time": "2024-09-21T16:00:05.685Z"
   },
   {
    "duration": 137,
    "start_time": "2024-09-21T16:00:11.275Z"
   },
   {
    "duration": 4,
    "start_time": "2024-09-21T16:00:22.705Z"
   },
   {
    "duration": 4,
    "start_time": "2024-09-21T16:00:39.595Z"
   },
   {
    "duration": 4,
    "start_time": "2024-09-21T16:00:44.903Z"
   },
   {
    "duration": 63,
    "start_time": "2024-09-21T16:00:48.979Z"
   },
   {
    "duration": 94,
    "start_time": "2024-09-21T16:00:53.024Z"
   },
   {
    "duration": 4,
    "start_time": "2024-09-21T16:01:30.321Z"
   },
   {
    "duration": 59,
    "start_time": "2024-09-21T16:04:46.945Z"
   },
   {
    "duration": 32,
    "start_time": "2024-09-21T16:09:08.855Z"
   },
   {
    "duration": 4010,
    "start_time": "2024-09-21T16:09:37.138Z"
   },
   {
    "duration": 83,
    "start_time": "2024-09-21T16:10:18.669Z"
   },
   {
    "duration": 9,
    "start_time": "2024-09-21T16:10:38.689Z"
   },
   {
    "duration": 11,
    "start_time": "2024-09-21T16:11:22.467Z"
   },
   {
    "duration": 4064,
    "start_time": "2024-09-21T16:11:37.597Z"
   },
   {
    "duration": 2545,
    "start_time": "2024-09-21T16:12:14.912Z"
   },
   {
    "duration": 2627,
    "start_time": "2024-09-21T16:12:17.460Z"
   },
   {
    "duration": 1507,
    "start_time": "2024-09-21T16:12:20.089Z"
   },
   {
    "duration": 4,
    "start_time": "2024-09-21T16:12:21.598Z"
   },
   {
    "duration": 23,
    "start_time": "2024-09-21T16:12:21.605Z"
   },
   {
    "duration": 11,
    "start_time": "2024-09-21T16:12:21.630Z"
   },
   {
    "duration": 33,
    "start_time": "2024-09-21T16:12:21.642Z"
   },
   {
    "duration": 9,
    "start_time": "2024-09-21T16:12:21.677Z"
   },
   {
    "duration": 8,
    "start_time": "2024-09-21T16:12:21.688Z"
   },
   {
    "duration": 274,
    "start_time": "2024-09-21T16:12:21.697Z"
   },
   {
    "duration": 208,
    "start_time": "2024-09-21T16:12:21.973Z"
   },
   {
    "duration": 264,
    "start_time": "2024-09-21T16:12:22.182Z"
   },
   {
    "duration": 43,
    "start_time": "2024-09-21T16:12:22.449Z"
   },
   {
    "duration": 74,
    "start_time": "2024-09-21T16:12:22.495Z"
   },
   {
    "duration": 38,
    "start_time": "2024-09-21T16:12:22.571Z"
   },
   {
    "duration": 61,
    "start_time": "2024-09-21T16:12:22.610Z"
   },
   {
    "duration": 3535,
    "start_time": "2024-09-21T16:12:22.672Z"
   },
   {
    "duration": 42,
    "start_time": "2024-09-21T16:12:26.210Z"
   },
   {
    "duration": 3589,
    "start_time": "2024-09-21T16:12:26.254Z"
   },
   {
    "duration": 48,
    "start_time": "2024-09-21T16:12:29.845Z"
   },
   {
    "duration": 3808,
    "start_time": "2024-09-21T16:12:29.895Z"
   },
   {
    "duration": 458,
    "start_time": "2024-09-21T16:12:33.705Z"
   },
   {
    "duration": 418,
    "start_time": "2024-09-21T16:12:34.165Z"
   },
   {
    "duration": 464,
    "start_time": "2024-09-21T16:12:34.585Z"
   },
   {
    "duration": 46,
    "start_time": "2024-09-21T16:12:35.051Z"
   },
   {
    "duration": 3,
    "start_time": "2024-09-21T16:12:35.099Z"
   },
   {
    "duration": 4150,
    "start_time": "2024-09-21T16:12:35.105Z"
   },
   {
    "duration": 16,
    "start_time": "2024-09-21T16:12:39.256Z"
   },
   {
    "duration": 100,
    "start_time": "2024-09-21T16:12:39.350Z"
   },
   {
    "duration": 29,
    "start_time": "2024-09-21T16:12:39.452Z"
   },
   {
    "duration": 4273,
    "start_time": "2024-09-21T16:12:39.483Z"
   },
   {
    "duration": 91,
    "start_time": "2024-09-21T16:12:43.758Z"
   },
   {
    "duration": 97,
    "start_time": "2024-09-21T16:12:43.851Z"
   },
   {
    "duration": 48,
    "start_time": "2024-09-21T16:13:50.248Z"
   },
   {
    "duration": 4009,
    "start_time": "2024-09-21T16:13:50.947Z"
   },
   {
    "duration": 15,
    "start_time": "2024-09-21T16:14:25.381Z"
   },
   {
    "duration": 10,
    "start_time": "2024-09-21T16:14:29.092Z"
   },
   {
    "duration": 44,
    "start_time": "2024-09-21T16:16:38.912Z"
   },
   {
    "duration": 4005,
    "start_time": "2024-09-21T16:17:00.052Z"
   },
   {
    "duration": 4039,
    "start_time": "2024-09-21T16:17:21.513Z"
   },
   {
    "duration": 48,
    "start_time": "2024-09-21T16:17:48.098Z"
   },
   {
    "duration": 10,
    "start_time": "2024-09-21T16:18:07.265Z"
   },
   {
    "duration": 2572,
    "start_time": "2024-09-21T16:19:52.158Z"
   },
   {
    "duration": 2526,
    "start_time": "2024-09-21T16:19:54.733Z"
   },
   {
    "duration": 1553,
    "start_time": "2024-09-21T16:19:57.262Z"
   },
   {
    "duration": 4,
    "start_time": "2024-09-21T16:19:58.817Z"
   },
   {
    "duration": 31,
    "start_time": "2024-09-21T16:19:58.823Z"
   },
   {
    "duration": 6,
    "start_time": "2024-09-21T16:19:58.855Z"
   },
   {
    "duration": 5,
    "start_time": "2024-09-21T16:19:58.862Z"
   },
   {
    "duration": 4,
    "start_time": "2024-09-21T16:19:58.868Z"
   },
   {
    "duration": 6,
    "start_time": "2024-09-21T16:19:58.874Z"
   },
   {
    "duration": 231,
    "start_time": "2024-09-21T16:19:58.882Z"
   },
   {
    "duration": 198,
    "start_time": "2024-09-21T16:19:59.115Z"
   },
   {
    "duration": 208,
    "start_time": "2024-09-21T16:19:59.314Z"
   },
   {
    "duration": 62,
    "start_time": "2024-09-21T16:19:59.523Z"
   },
   {
    "duration": 41,
    "start_time": "2024-09-21T16:19:59.589Z"
   },
   {
    "duration": 37,
    "start_time": "2024-09-21T16:19:59.645Z"
   },
   {
    "duration": 38,
    "start_time": "2024-09-21T16:19:59.683Z"
   },
   {
    "duration": 3644,
    "start_time": "2024-09-21T16:19:59.722Z"
   },
   {
    "duration": 36,
    "start_time": "2024-09-21T16:20:03.368Z"
   },
   {
    "duration": 3444,
    "start_time": "2024-09-21T16:20:03.406Z"
   },
   {
    "duration": 36,
    "start_time": "2024-09-21T16:20:06.852Z"
   },
   {
    "duration": 4627,
    "start_time": "2024-09-21T16:20:06.890Z"
   },
   {
    "duration": 438,
    "start_time": "2024-09-21T16:20:11.519Z"
   },
   {
    "duration": 397,
    "start_time": "2024-09-21T16:20:11.959Z"
   },
   {
    "duration": 455,
    "start_time": "2024-09-21T16:20:12.358Z"
   },
   {
    "duration": 57,
    "start_time": "2024-09-21T16:20:12.815Z"
   },
   {
    "duration": 3,
    "start_time": "2024-09-21T16:20:12.874Z"
   },
   {
    "duration": 4176,
    "start_time": "2024-09-21T16:20:12.879Z"
   },
   {
    "duration": 90,
    "start_time": "2024-09-21T16:20:17.057Z"
   },
   {
    "duration": 99,
    "start_time": "2024-09-21T16:20:17.149Z"
   },
   {
    "duration": 105,
    "start_time": "2024-09-21T16:20:17.250Z"
   },
   {
    "duration": 4205,
    "start_time": "2024-09-21T16:20:17.357Z"
   },
   {
    "duration": 82,
    "start_time": "2024-09-21T16:20:21.564Z"
   },
   {
    "duration": 100,
    "start_time": "2024-09-21T16:20:21.648Z"
   },
   {
    "duration": 48,
    "start_time": "2024-09-21T16:20:21.750Z"
   },
   {
    "duration": 4056,
    "start_time": "2024-09-21T16:20:21.800Z"
   },
   {
    "duration": 88,
    "start_time": "2024-09-21T16:20:25.858Z"
   },
   {
    "duration": 99,
    "start_time": "2024-09-21T16:20:25.949Z"
   },
   {
    "duration": 11,
    "start_time": "2024-09-21T16:21:32.904Z"
   },
   {
    "duration": 10,
    "start_time": "2024-09-21T16:21:48.825Z"
   },
   {
    "duration": 153,
    "start_time": "2024-09-21T16:25:22.454Z"
   },
   {
    "duration": 4044,
    "start_time": "2024-09-21T16:27:34.204Z"
   },
   {
    "duration": 4056,
    "start_time": "2024-09-21T16:27:46.097Z"
   },
   {
    "duration": 4061,
    "start_time": "2024-09-21T16:28:07.197Z"
   },
   {
    "duration": 4005,
    "start_time": "2024-09-21T16:28:21.755Z"
   },
   {
    "duration": 2704,
    "start_time": "2024-09-21T16:28:39.571Z"
   },
   {
    "duration": 2572,
    "start_time": "2024-09-21T16:28:42.277Z"
   },
   {
    "duration": 1542,
    "start_time": "2024-09-21T16:28:44.851Z"
   },
   {
    "duration": 4,
    "start_time": "2024-09-21T16:28:46.394Z"
   },
   {
    "duration": 12,
    "start_time": "2024-09-21T16:28:46.401Z"
   },
   {
    "duration": 8,
    "start_time": "2024-09-21T16:28:46.415Z"
   },
   {
    "duration": 7,
    "start_time": "2024-09-21T16:28:46.424Z"
   },
   {
    "duration": 8,
    "start_time": "2024-09-21T16:28:46.433Z"
   },
   {
    "duration": 19,
    "start_time": "2024-09-21T16:28:46.443Z"
   },
   {
    "duration": 246,
    "start_time": "2024-09-21T16:28:46.464Z"
   },
   {
    "duration": 197,
    "start_time": "2024-09-21T16:28:46.712Z"
   },
   {
    "duration": 207,
    "start_time": "2024-09-21T16:28:46.911Z"
   },
   {
    "duration": 43,
    "start_time": "2024-09-21T16:28:47.119Z"
   },
   {
    "duration": 26,
    "start_time": "2024-09-21T16:28:47.165Z"
   },
   {
    "duration": 34,
    "start_time": "2024-09-21T16:28:47.193Z"
   },
   {
    "duration": 39,
    "start_time": "2024-09-21T16:28:47.246Z"
   },
   {
    "duration": 3412,
    "start_time": "2024-09-21T16:28:47.287Z"
   },
   {
    "duration": 35,
    "start_time": "2024-09-21T16:28:50.701Z"
   },
   {
    "duration": 3428,
    "start_time": "2024-09-21T16:28:50.745Z"
   },
   {
    "duration": 38,
    "start_time": "2024-09-21T16:28:54.175Z"
   },
   {
    "duration": 5334,
    "start_time": "2024-09-21T16:28:54.214Z"
   },
   {
    "duration": 407,
    "start_time": "2024-09-21T16:28:59.550Z"
   },
   {
    "duration": 394,
    "start_time": "2024-09-21T16:28:59.959Z"
   },
   {
    "duration": 422,
    "start_time": "2024-09-21T16:29:00.354Z"
   },
   {
    "duration": 49,
    "start_time": "2024-09-21T16:29:00.778Z"
   },
   {
    "duration": 17,
    "start_time": "2024-09-21T16:29:00.829Z"
   },
   {
    "duration": 4008,
    "start_time": "2024-09-21T16:29:00.848Z"
   },
   {
    "duration": 90,
    "start_time": "2024-09-21T16:29:04.858Z"
   },
   {
    "duration": 99,
    "start_time": "2024-09-21T16:29:04.951Z"
   },
   {
    "duration": 48,
    "start_time": "2024-09-21T16:29:05.052Z"
   },
   {
    "duration": 4049,
    "start_time": "2024-09-21T16:29:05.102Z"
   },
   {
    "duration": 15,
    "start_time": "2024-09-21T16:29:09.152Z"
   },
   {
    "duration": 105,
    "start_time": "2024-09-21T16:29:09.249Z"
   },
   {
    "duration": 73,
    "start_time": "2024-09-21T16:29:09.356Z"
   },
   {
    "duration": 4020,
    "start_time": "2024-09-21T16:29:09.431Z"
   },
   {
    "duration": 97,
    "start_time": "2024-09-21T16:29:13.453Z"
   },
   {
    "duration": 90,
    "start_time": "2024-09-21T16:29:13.563Z"
   },
   {
    "duration": 9,
    "start_time": "2024-09-21T16:34:45.886Z"
   },
   {
    "duration": 2715,
    "start_time": "2024-09-21T16:36:38.501Z"
   },
   {
    "duration": 2630,
    "start_time": "2024-09-21T16:36:41.218Z"
   },
   {
    "duration": 1543,
    "start_time": "2024-09-21T16:36:43.850Z"
   },
   {
    "duration": 4,
    "start_time": "2024-09-21T16:36:45.395Z"
   },
   {
    "duration": 64,
    "start_time": "2024-09-21T16:36:45.400Z"
   },
   {
    "duration": 23,
    "start_time": "2024-09-21T16:36:45.465Z"
   },
   {
    "duration": 28,
    "start_time": "2024-09-21T16:36:45.490Z"
   },
   {
    "duration": 10,
    "start_time": "2024-09-21T16:36:45.520Z"
   },
   {
    "duration": 11,
    "start_time": "2024-09-21T16:36:45.531Z"
   },
   {
    "duration": 225,
    "start_time": "2024-09-21T16:36:45.545Z"
   },
   {
    "duration": 197,
    "start_time": "2024-09-21T16:36:45.771Z"
   },
   {
    "duration": 209,
    "start_time": "2024-09-21T16:36:45.970Z"
   },
   {
    "duration": 33,
    "start_time": "2024-09-21T16:36:46.180Z"
   },
   {
    "duration": 40,
    "start_time": "2024-09-21T16:36:46.215Z"
   },
   {
    "duration": 35,
    "start_time": "2024-09-21T16:36:46.256Z"
   },
   {
    "duration": 36,
    "start_time": "2024-09-21T16:36:46.292Z"
   },
   {
    "duration": 3441,
    "start_time": "2024-09-21T16:36:46.330Z"
   },
   {
    "duration": 41,
    "start_time": "2024-09-21T16:36:49.773Z"
   },
   {
    "duration": 3422,
    "start_time": "2024-09-21T16:36:49.815Z"
   },
   {
    "duration": 38,
    "start_time": "2024-09-21T16:36:53.239Z"
   },
   {
    "duration": 3807,
    "start_time": "2024-09-21T16:36:53.279Z"
   },
   {
    "duration": 467,
    "start_time": "2024-09-21T16:36:57.088Z"
   },
   {
    "duration": 422,
    "start_time": "2024-09-21T16:36:57.557Z"
   },
   {
    "duration": 447,
    "start_time": "2024-09-21T16:36:57.980Z"
   },
   {
    "duration": 52,
    "start_time": "2024-09-21T16:36:58.429Z"
   },
   {
    "duration": 5,
    "start_time": "2024-09-21T16:36:58.483Z"
   },
   {
    "duration": 4068,
    "start_time": "2024-09-21T16:36:58.490Z"
   },
   {
    "duration": 13,
    "start_time": "2024-09-21T16:37:02.562Z"
   },
   {
    "duration": 103,
    "start_time": "2024-09-21T16:37:02.645Z"
   },
   {
    "duration": 55,
    "start_time": "2024-09-21T16:37:02.751Z"
   },
   {
    "duration": 4048,
    "start_time": "2024-09-21T16:37:02.808Z"
   },
   {
    "duration": 88,
    "start_time": "2024-09-21T16:37:06.858Z"
   },
   {
    "duration": 113,
    "start_time": "2024-09-21T16:37:06.949Z"
   },
   {
    "duration": 69,
    "start_time": "2024-09-21T16:37:07.064Z"
   },
   {
    "duration": 3920,
    "start_time": "2024-09-21T16:37:07.135Z"
   },
   {
    "duration": 15,
    "start_time": "2024-09-21T16:37:11.147Z"
   },
   {
    "duration": 101,
    "start_time": "2024-09-21T16:37:11.247Z"
   },
   {
    "duration": 3,
    "start_time": "2024-09-21T16:49:11.907Z"
   },
   {
    "duration": 4,
    "start_time": "2024-09-21T16:49:17.841Z"
   },
   {
    "duration": 4,
    "start_time": "2024-09-21T16:50:49.501Z"
   },
   {
    "duration": 3,
    "start_time": "2024-09-21T16:55:09.759Z"
   },
   {
    "duration": 2,
    "start_time": "2024-09-21T16:55:53.573Z"
   },
   {
    "duration": 4,
    "start_time": "2024-09-21T16:59:15.516Z"
   },
   {
    "duration": 4,
    "start_time": "2024-09-21T17:01:14.802Z"
   },
   {
    "duration": 2,
    "start_time": "2024-09-21T17:04:12.724Z"
   },
   {
    "duration": 4,
    "start_time": "2024-09-21T17:04:18.166Z"
   },
   {
    "duration": 4,
    "start_time": "2024-09-21T17:04:24.013Z"
   },
   {
    "duration": 130,
    "start_time": "2024-09-21T17:04:38.620Z"
   },
   {
    "duration": 4,
    "start_time": "2024-09-21T17:04:51.592Z"
   },
   {
    "duration": 4,
    "start_time": "2024-09-21T17:04:53.503Z"
   },
   {
    "duration": 4,
    "start_time": "2024-09-21T17:22:26.901Z"
   },
   {
    "duration": 3,
    "start_time": "2024-09-21T17:24:26.077Z"
   },
   {
    "duration": 3,
    "start_time": "2024-09-21T17:24:59.675Z"
   },
   {
    "duration": 14,
    "start_time": "2024-09-21T17:25:27.637Z"
   },
   {
    "duration": 56,
    "start_time": "2024-09-21T17:25:39.487Z"
   },
   {
    "duration": 3,
    "start_time": "2024-09-21T17:26:26.746Z"
   },
   {
    "duration": 10,
    "start_time": "2024-09-21T17:26:27.362Z"
   },
   {
    "duration": 3,
    "start_time": "2024-09-21T17:27:22.322Z"
   },
   {
    "duration": 12,
    "start_time": "2024-09-21T17:27:22.938Z"
   },
   {
    "duration": 18,
    "start_time": "2024-09-21T17:27:39.071Z"
   },
   {
    "duration": 12,
    "start_time": "2024-09-21T17:27:49.746Z"
   },
   {
    "duration": 4,
    "start_time": "2024-09-21T17:28:18.456Z"
   },
   {
    "duration": 17,
    "start_time": "2024-09-21T17:28:19.294Z"
   },
   {
    "duration": 10,
    "start_time": "2024-09-21T17:28:21.050Z"
   },
   {
    "duration": 5,
    "start_time": "2024-09-21T17:28:30.649Z"
   },
   {
    "duration": 11,
    "start_time": "2024-09-21T17:28:32.029Z"
   },
   {
    "duration": 15,
    "start_time": "2024-09-21T17:28:32.539Z"
   },
   {
    "duration": 12,
    "start_time": "2024-09-21T17:28:33.021Z"
   },
   {
    "duration": 3,
    "start_time": "2024-09-21T17:29:13.106Z"
   },
   {
    "duration": 14,
    "start_time": "2024-09-21T17:29:13.680Z"
   },
   {
    "duration": 11,
    "start_time": "2024-09-21T17:29:14.436Z"
   },
   {
    "duration": 17,
    "start_time": "2024-09-21T17:29:14.985Z"
   },
   {
    "duration": 3,
    "start_time": "2024-09-21T17:29:38.734Z"
   },
   {
    "duration": 11,
    "start_time": "2024-09-21T17:29:39.620Z"
   },
   {
    "duration": 11,
    "start_time": "2024-09-21T17:29:40.068Z"
   },
   {
    "duration": 15,
    "start_time": "2024-09-21T17:29:40.544Z"
   },
   {
    "duration": 14,
    "start_time": "2024-09-21T17:32:24.119Z"
   },
   {
    "duration": 18,
    "start_time": "2024-09-21T17:32:48.606Z"
   },
   {
    "duration": 4,
    "start_time": "2024-09-21T17:41:13.493Z"
   },
   {
    "duration": 4,
    "start_time": "2024-09-21T17:49:57.094Z"
   },
   {
    "duration": 14,
    "start_time": "2024-09-21T17:50:39.596Z"
   },
   {
    "duration": 60,
    "start_time": "2024-09-21T17:51:15.700Z"
   },
   {
    "duration": 52,
    "start_time": "2024-09-21T17:51:42.191Z"
   },
   {
    "duration": 4,
    "start_time": "2024-09-21T17:52:05.215Z"
   },
   {
    "duration": 43,
    "start_time": "2024-09-21T17:52:06.706Z"
   },
   {
    "duration": 41,
    "start_time": "2024-09-21T17:52:45.806Z"
   },
   {
    "duration": 4,
    "start_time": "2024-09-21T17:52:59.449Z"
   },
   {
    "duration": 21,
    "start_time": "2024-09-21T17:53:00.925Z"
   },
   {
    "duration": 4,
    "start_time": "2024-09-21T17:54:49.959Z"
   },
   {
    "duration": 98,
    "start_time": "2024-09-21T17:55:46.849Z"
   },
   {
    "duration": 4,
    "start_time": "2024-09-21T17:56:00.226Z"
   },
   {
    "duration": 79,
    "start_time": "2024-09-21T17:56:05.371Z"
   },
   {
    "duration": 43,
    "start_time": "2024-09-21T17:57:11.404Z"
   },
   {
    "duration": 6,
    "start_time": "2024-09-21T18:05:28.582Z"
   },
   {
    "duration": 18,
    "start_time": "2024-09-21T18:05:29.386Z"
   },
   {
    "duration": 5,
    "start_time": "2024-09-21T18:05:50.189Z"
   },
   {
    "duration": 6,
    "start_time": "2024-09-21T18:05:50.644Z"
   },
   {
    "duration": 6,
    "start_time": "2024-09-21T18:06:06.859Z"
   },
   {
    "duration": 8,
    "start_time": "2024-09-21T18:06:08.566Z"
   },
   {
    "duration": 4,
    "start_time": "2024-09-21T18:06:51.079Z"
   },
   {
    "duration": 16,
    "start_time": "2024-09-21T18:06:51.950Z"
   },
   {
    "duration": 4,
    "start_time": "2024-09-21T18:08:29.834Z"
   },
   {
    "duration": 6,
    "start_time": "2024-09-21T18:08:30.459Z"
   },
   {
    "duration": 7,
    "start_time": "2024-09-21T18:08:33.387Z"
   },
   {
    "duration": 6,
    "start_time": "2024-09-21T18:08:34.432Z"
   },
   {
    "duration": 4,
    "start_time": "2024-09-21T18:09:55.417Z"
   },
   {
    "duration": 5,
    "start_time": "2024-09-21T18:09:55.923Z"
   },
   {
    "duration": 6,
    "start_time": "2024-09-21T18:09:56.426Z"
   },
   {
    "duration": 7,
    "start_time": "2024-09-21T18:09:56.897Z"
   },
   {
    "duration": 4,
    "start_time": "2024-09-21T18:10:09.331Z"
   },
   {
    "duration": 6,
    "start_time": "2024-09-21T18:10:09.841Z"
   },
   {
    "duration": 6,
    "start_time": "2024-09-21T18:10:10.365Z"
   },
   {
    "duration": 8,
    "start_time": "2024-09-21T18:10:10.765Z"
   },
   {
    "duration": 4,
    "start_time": "2024-09-21T18:10:19.737Z"
   },
   {
    "duration": 6,
    "start_time": "2024-09-21T18:10:20.178Z"
   },
   {
    "duration": 5,
    "start_time": "2024-09-21T18:10:20.601Z"
   },
   {
    "duration": 6,
    "start_time": "2024-09-21T18:10:21.051Z"
   },
   {
    "duration": 4,
    "start_time": "2024-09-21T18:10:34.325Z"
   },
   {
    "duration": 6,
    "start_time": "2024-09-21T18:10:34.915Z"
   },
   {
    "duration": 5,
    "start_time": "2024-09-21T18:10:35.396Z"
   },
   {
    "duration": 6,
    "start_time": "2024-09-21T18:10:35.823Z"
   },
   {
    "duration": 2627,
    "start_time": "2024-09-21T18:19:37.886Z"
   },
   {
    "duration": 2613,
    "start_time": "2024-09-21T18:19:40.515Z"
   },
   {
    "duration": 1534,
    "start_time": "2024-09-21T18:19:43.130Z"
   },
   {
    "duration": 4,
    "start_time": "2024-09-21T18:19:44.666Z"
   },
   {
    "duration": 13,
    "start_time": "2024-09-21T18:19:44.672Z"
   },
   {
    "duration": 12,
    "start_time": "2024-09-21T18:19:44.686Z"
   },
   {
    "duration": 11,
    "start_time": "2024-09-21T18:19:44.699Z"
   },
   {
    "duration": 16,
    "start_time": "2024-09-21T18:19:44.711Z"
   },
   {
    "duration": 10,
    "start_time": "2024-09-21T18:19:44.728Z"
   },
   {
    "duration": 12,
    "start_time": "2024-09-21T18:19:44.739Z"
   },
   {
    "duration": 270,
    "start_time": "2024-09-21T18:19:44.753Z"
   },
   {
    "duration": 207,
    "start_time": "2024-09-21T18:19:45.025Z"
   },
   {
    "duration": 212,
    "start_time": "2024-09-21T18:19:45.234Z"
   },
   {
    "duration": 35,
    "start_time": "2024-09-21T18:19:45.448Z"
   },
   {
    "duration": 26,
    "start_time": "2024-09-21T18:19:45.485Z"
   },
   {
    "duration": 57,
    "start_time": "2024-09-21T18:19:45.513Z"
   },
   {
    "duration": 39,
    "start_time": "2024-09-21T18:19:45.571Z"
   },
   {
    "duration": 3303,
    "start_time": "2024-09-21T18:19:45.612Z"
   },
   {
    "duration": 42,
    "start_time": "2024-09-21T18:19:48.917Z"
   },
   {
    "duration": 3381,
    "start_time": "2024-09-21T18:19:48.961Z"
   },
   {
    "duration": 39,
    "start_time": "2024-09-21T18:19:52.345Z"
   },
   {
    "duration": 3702,
    "start_time": "2024-09-21T18:19:52.386Z"
   },
   {
    "duration": 449,
    "start_time": "2024-09-21T18:19:56.090Z"
   },
   {
    "duration": 406,
    "start_time": "2024-09-21T18:19:56.546Z"
   },
   {
    "duration": 402,
    "start_time": "2024-09-21T18:19:56.954Z"
   },
   {
    "duration": 46,
    "start_time": "2024-09-21T18:19:57.357Z"
   },
   {
    "duration": 3,
    "start_time": "2024-09-21T18:19:57.404Z"
   },
   {
    "duration": 4045,
    "start_time": "2024-09-21T18:19:57.409Z"
   },
   {
    "duration": 191,
    "start_time": "2024-09-21T18:20:01.456Z"
   },
   {
    "duration": 106,
    "start_time": "2024-09-21T18:20:01.649Z"
   },
   {
    "duration": 3995,
    "start_time": "2024-09-21T18:20:01.757Z"
   },
   {
    "duration": 105,
    "start_time": "2024-09-21T18:20:05.754Z"
   },
   {
    "duration": 48,
    "start_time": "2024-09-21T18:20:05.946Z"
   },
   {
    "duration": 4052,
    "start_time": "2024-09-21T18:20:05.996Z"
   },
   {
    "duration": 101,
    "start_time": "2024-09-21T18:20:10.050Z"
   },
   {
    "duration": 93,
    "start_time": "2024-09-21T18:20:10.153Z"
   },
   {
    "duration": 33,
    "start_time": "2024-09-21T18:20:10.248Z"
   },
   {
    "duration": 11,
    "start_time": "2024-09-21T18:20:10.283Z"
   },
   {
    "duration": 11,
    "start_time": "2024-09-21T18:20:10.296Z"
   },
   {
    "duration": 38,
    "start_time": "2024-09-21T18:20:10.309Z"
   },
   {
    "duration": 17,
    "start_time": "2024-09-21T18:20:10.351Z"
   },
   {
    "duration": 6,
    "start_time": "2024-09-21T18:20:10.369Z"
   },
   {
    "duration": 5,
    "start_time": "2024-09-21T18:32:45.806Z"
   },
   {
    "duration": 4,
    "start_time": "2024-09-21T18:33:00.933Z"
   },
   {
    "duration": 4,
    "start_time": "2024-09-21T18:33:19.243Z"
   },
   {
    "duration": 5,
    "start_time": "2024-09-21T18:33:43.236Z"
   },
   {
    "duration": 44,
    "start_time": "2024-09-22T10:55:15.179Z"
   },
   {
    "duration": 3607,
    "start_time": "2024-09-22T10:55:21.668Z"
   },
   {
    "duration": 2953,
    "start_time": "2024-09-22T10:55:25.277Z"
   },
   {
    "duration": 1534,
    "start_time": "2024-09-22T10:55:28.231Z"
   },
   {
    "duration": 4,
    "start_time": "2024-09-22T10:55:29.766Z"
   },
   {
    "duration": 9,
    "start_time": "2024-09-22T10:55:29.772Z"
   },
   {
    "duration": 6,
    "start_time": "2024-09-22T10:55:29.782Z"
   },
   {
    "duration": 4,
    "start_time": "2024-09-22T10:55:29.789Z"
   },
   {
    "duration": 40,
    "start_time": "2024-09-22T10:55:29.794Z"
   },
   {
    "duration": 61,
    "start_time": "2024-09-22T10:55:29.835Z"
   },
   {
    "duration": 22,
    "start_time": "2024-09-22T10:55:29.898Z"
   },
   {
    "duration": 858,
    "start_time": "2024-09-22T10:55:29.921Z"
   },
   {
    "duration": 636,
    "start_time": "2024-09-22T10:55:30.780Z"
   },
   {
    "duration": 612,
    "start_time": "2024-09-22T10:55:31.417Z"
   },
   {
    "duration": 30,
    "start_time": "2024-09-22T10:55:32.032Z"
   },
   {
    "duration": 46,
    "start_time": "2024-09-22T10:55:32.064Z"
   },
   {
    "duration": 34,
    "start_time": "2024-09-22T10:55:32.111Z"
   },
   {
    "duration": 45,
    "start_time": "2024-09-22T10:55:32.146Z"
   },
   {
    "duration": 3167,
    "start_time": "2024-09-22T10:55:32.193Z"
   },
   {
    "duration": 44,
    "start_time": "2024-09-22T10:55:35.361Z"
   },
   {
    "duration": 3132,
    "start_time": "2024-09-22T10:55:35.407Z"
   },
   {
    "duration": 33,
    "start_time": "2024-09-22T10:55:38.540Z"
   },
   {
    "duration": 3392,
    "start_time": "2024-09-22T10:55:38.574Z"
   },
   {
    "duration": 643,
    "start_time": "2024-09-22T10:55:41.968Z"
   },
   {
    "duration": 686,
    "start_time": "2024-09-22T10:55:42.613Z"
   },
   {
    "duration": 465,
    "start_time": "2024-09-22T10:55:43.300Z"
   },
   {
    "duration": 55,
    "start_time": "2024-09-22T10:55:43.767Z"
   },
   {
    "duration": 3,
    "start_time": "2024-09-22T10:55:43.823Z"
   },
   {
    "duration": 4068,
    "start_time": "2024-09-22T10:55:43.828Z"
   },
   {
    "duration": 99,
    "start_time": "2024-09-22T10:55:47.898Z"
   },
   {
    "duration": 43,
    "start_time": "2024-09-22T10:55:48.089Z"
   },
   {
    "duration": 4059,
    "start_time": "2024-09-22T10:55:48.134Z"
   },
   {
    "duration": 196,
    "start_time": "2024-09-22T10:55:52.194Z"
   },
   {
    "duration": 41,
    "start_time": "2024-09-22T10:55:52.391Z"
   },
   {
    "duration": 3863,
    "start_time": "2024-09-22T10:55:52.433Z"
   },
   {
    "duration": 97,
    "start_time": "2024-09-22T10:55:56.297Z"
   },
   {
    "duration": 94,
    "start_time": "2024-09-22T10:55:56.396Z"
   },
   {
    "duration": 7,
    "start_time": "2024-09-22T10:55:56.492Z"
   },
   {
    "duration": 8,
    "start_time": "2024-09-22T10:55:56.500Z"
   },
   {
    "duration": 5,
    "start_time": "2024-09-22T10:55:56.509Z"
   },
   {
    "duration": 119,
    "start_time": "2024-09-22T10:55:56.516Z"
   },
   {
    "duration": 0,
    "start_time": "2024-09-22T10:55:56.636Z"
   },
   {
    "duration": 0,
    "start_time": "2024-09-22T10:55:56.637Z"
   },
   {
    "duration": 12,
    "start_time": "2024-09-22T10:57:37.134Z"
   },
   {
    "duration": 3,
    "start_time": "2024-09-22T10:58:05.845Z"
   },
   {
    "duration": 11,
    "start_time": "2024-09-22T10:58:06.310Z"
   },
   {
    "duration": 3,
    "start_time": "2024-09-22T10:58:21.662Z"
   },
   {
    "duration": 10,
    "start_time": "2024-09-22T10:58:29.948Z"
   },
   {
    "duration": 10,
    "start_time": "2024-09-22T10:58:36.707Z"
   },
   {
    "duration": 15,
    "start_time": "2024-09-22T10:58:50.836Z"
   },
   {
    "duration": 60,
    "start_time": "2024-09-22T11:04:46.784Z"
   },
   {
    "duration": 5,
    "start_time": "2024-09-22T11:04:51.274Z"
   },
   {
    "duration": 23,
    "start_time": "2024-09-22T11:05:15.785Z"
   },
   {
    "duration": 17,
    "start_time": "2024-09-22T11:07:29.061Z"
   },
   {
    "duration": 5,
    "start_time": "2024-09-22T11:07:49.519Z"
   },
   {
    "duration": 12,
    "start_time": "2024-09-22T11:07:54.607Z"
   },
   {
    "duration": 1084,
    "start_time": "2024-09-22T11:08:11.734Z"
   },
   {
    "duration": 5,
    "start_time": "2024-09-22T11:11:26.653Z"
   },
   {
    "duration": 1097,
    "start_time": "2024-09-22T11:11:27.248Z"
   },
   {
    "duration": 5,
    "start_time": "2024-09-22T11:11:36.879Z"
   },
   {
    "duration": 1083,
    "start_time": "2024-09-22T11:11:37.683Z"
   },
   {
    "duration": 5,
    "start_time": "2024-09-22T11:13:14.537Z"
   },
   {
    "duration": 1087,
    "start_time": "2024-09-22T11:13:15.239Z"
   },
   {
    "duration": 5,
    "start_time": "2024-09-22T11:13:32.887Z"
   },
   {
    "duration": 1052,
    "start_time": "2024-09-22T11:13:33.382Z"
   },
   {
    "duration": 4,
    "start_time": "2024-09-22T11:13:55.495Z"
   },
   {
    "duration": 1055,
    "start_time": "2024-09-22T11:13:55.973Z"
   },
   {
    "duration": 5,
    "start_time": "2024-09-22T11:17:09.900Z"
   },
   {
    "duration": 1055,
    "start_time": "2024-09-22T11:17:11.412Z"
   },
   {
    "duration": 5,
    "start_time": "2024-09-22T11:17:52.248Z"
   },
   {
    "duration": 1046,
    "start_time": "2024-09-22T11:17:53.512Z"
   },
   {
    "duration": 6,
    "start_time": "2024-09-22T11:19:03.784Z"
   },
   {
    "duration": 1096,
    "start_time": "2024-09-22T11:19:04.475Z"
   },
   {
    "duration": 1057,
    "start_time": "2024-09-22T11:19:24.418Z"
   },
   {
    "duration": 1063,
    "start_time": "2024-09-22T11:19:34.833Z"
   },
   {
    "duration": 5,
    "start_time": "2024-09-22T11:19:58.871Z"
   },
   {
    "duration": 1071,
    "start_time": "2024-09-22T11:19:59.562Z"
   },
   {
    "duration": 5,
    "start_time": "2024-09-22T11:20:19.403Z"
   },
   {
    "duration": 1092,
    "start_time": "2024-09-22T11:20:20.027Z"
   },
   {
    "duration": 1162,
    "start_time": "2024-09-22T11:20:22.211Z"
   },
   {
    "duration": 1045,
    "start_time": "2024-09-22T11:20:25.419Z"
   },
   {
    "duration": 5,
    "start_time": "2024-09-22T11:20:53.609Z"
   },
   {
    "duration": 1049,
    "start_time": "2024-09-22T11:20:54.509Z"
   },
   {
    "duration": 1077,
    "start_time": "2024-09-22T11:20:56.436Z"
   },
   {
    "duration": 5,
    "start_time": "2024-09-22T11:21:05.234Z"
   },
   {
    "duration": 1050,
    "start_time": "2024-09-22T11:21:07.241Z"
   },
   {
    "duration": 1032,
    "start_time": "2024-09-22T11:21:09.078Z"
   },
   {
    "duration": 1031,
    "start_time": "2024-09-22T11:21:11.319Z"
   },
   {
    "duration": 8,
    "start_time": "2024-09-22T11:22:02.434Z"
   },
   {
    "duration": 1096,
    "start_time": "2024-09-22T11:22:03.023Z"
   },
   {
    "duration": 1060,
    "start_time": "2024-09-22T11:22:05.388Z"
   },
   {
    "duration": 5,
    "start_time": "2024-09-22T11:22:15.226Z"
   },
   {
    "duration": 5,
    "start_time": "2024-09-22T11:31:30.593Z"
   },
   {
    "duration": 1068,
    "start_time": "2024-09-22T11:31:31.216Z"
   },
   {
    "duration": 5,
    "start_time": "2024-09-22T11:31:56.810Z"
   },
   {
    "duration": 1068,
    "start_time": "2024-09-22T11:31:58.753Z"
   },
   {
    "duration": 1059,
    "start_time": "2024-09-22T11:32:05.803Z"
   },
   {
    "duration": 1062,
    "start_time": "2024-09-22T11:32:11.154Z"
   },
   {
    "duration": 5,
    "start_time": "2024-09-22T11:32:20.266Z"
   },
   {
    "duration": 1073,
    "start_time": "2024-09-22T11:32:20.755Z"
   },
   {
    "duration": 1285,
    "start_time": "2024-09-22T11:32:21.830Z"
   },
   {
    "duration": 1078,
    "start_time": "2024-09-22T11:32:23.116Z"
   },
   {
    "duration": 5,
    "start_time": "2024-09-22T11:35:13.475Z"
   },
   {
    "duration": 1064,
    "start_time": "2024-09-22T11:35:14.534Z"
   },
   {
    "duration": 1086,
    "start_time": "2024-09-22T11:35:16.582Z"
   },
   {
    "duration": 1074,
    "start_time": "2024-09-22T11:35:18.954Z"
   },
   {
    "duration": 6,
    "start_time": "2024-09-22T11:35:35.699Z"
   },
   {
    "duration": 1073,
    "start_time": "2024-09-22T11:35:36.381Z"
   },
   {
    "duration": 1067,
    "start_time": "2024-09-22T11:35:38.775Z"
   },
   {
    "duration": 1064,
    "start_time": "2024-09-22T11:35:40.460Z"
   },
   {
    "duration": 5,
    "start_time": "2024-09-22T11:36:54.497Z"
   },
   {
    "duration": 650,
    "start_time": "2024-09-22T11:36:55.268Z"
   },
   {
    "duration": 635,
    "start_time": "2024-09-22T11:36:57.414Z"
   },
   {
    "duration": 642,
    "start_time": "2024-09-22T11:36:58.900Z"
   },
   {
    "duration": 6,
    "start_time": "2024-09-22T11:37:08.617Z"
   },
   {
    "duration": 1096,
    "start_time": "2024-09-22T11:37:13.193Z"
   },
   {
    "duration": 1045,
    "start_time": "2024-09-22T11:37:15.222Z"
   },
   {
    "duration": 1055,
    "start_time": "2024-09-22T11:37:17.467Z"
   },
   {
    "duration": 3,
    "start_time": "2024-09-22T12:00:49.343Z"
   },
   {
    "duration": 5,
    "start_time": "2024-09-22T12:00:52.780Z"
   },
   {
    "duration": 1065,
    "start_time": "2024-09-22T12:00:55.012Z"
   },
   {
    "duration": 1089,
    "start_time": "2024-09-22T12:00:57.748Z"
   },
   {
    "duration": 1090,
    "start_time": "2024-09-22T12:01:00.307Z"
   },
   {
    "duration": 4,
    "start_time": "2024-09-22T12:03:53.172Z"
   },
   {
    "duration": 3,
    "start_time": "2024-09-22T12:07:16.259Z"
   },
   {
    "duration": 2,
    "start_time": "2024-09-22T12:08:02.464Z"
   },
   {
    "duration": 3,
    "start_time": "2024-09-22T12:17:48.703Z"
   },
   {
    "duration": 1304,
    "start_time": "2024-09-22T12:20:07.508Z"
   },
   {
    "duration": 3,
    "start_time": "2024-09-22T12:20:08.813Z"
   },
   {
    "duration": 5,
    "start_time": "2024-09-22T12:20:08.818Z"
   },
   {
    "duration": 4,
    "start_time": "2024-09-22T12:20:08.824Z"
   },
   {
    "duration": 4,
    "start_time": "2024-09-22T12:20:08.830Z"
   },
   {
    "duration": 4,
    "start_time": "2024-09-22T12:20:08.836Z"
   },
   {
    "duration": 3,
    "start_time": "2024-09-22T12:20:08.841Z"
   },
   {
    "duration": 4,
    "start_time": "2024-09-22T12:20:08.846Z"
   },
   {
    "duration": 222,
    "start_time": "2024-09-22T12:20:08.852Z"
   },
   {
    "duration": 186,
    "start_time": "2024-09-22T12:20:09.076Z"
   },
   {
    "duration": 193,
    "start_time": "2024-09-22T12:20:09.263Z"
   },
   {
    "duration": 50,
    "start_time": "2024-09-22T12:20:09.457Z"
   },
   {
    "duration": 25,
    "start_time": "2024-09-22T12:20:09.508Z"
   },
   {
    "duration": 32,
    "start_time": "2024-09-22T12:20:09.534Z"
   },
   {
    "duration": 52,
    "start_time": "2024-09-22T12:20:09.568Z"
   },
   {
    "duration": 3248,
    "start_time": "2024-09-22T12:20:09.622Z"
   },
   {
    "duration": 38,
    "start_time": "2024-09-22T12:20:12.872Z"
   },
   {
    "duration": 3237,
    "start_time": "2024-09-22T12:20:12.911Z"
   },
   {
    "duration": 41,
    "start_time": "2024-09-22T12:20:16.150Z"
   },
   {
    "duration": 3487,
    "start_time": "2024-09-22T12:20:16.192Z"
   },
   {
    "duration": 391,
    "start_time": "2024-09-22T12:20:19.681Z"
   },
   {
    "duration": 424,
    "start_time": "2024-09-22T12:20:20.074Z"
   },
   {
    "duration": 401,
    "start_time": "2024-09-22T12:20:20.500Z"
   },
   {
    "duration": 44,
    "start_time": "2024-09-22T12:20:20.902Z"
   },
   {
    "duration": 4048,
    "start_time": "2024-09-22T12:20:20.947Z"
   },
   {
    "duration": 102,
    "start_time": "2024-09-22T12:20:24.997Z"
   },
   {
    "duration": 127,
    "start_time": "2024-09-22T12:20:25.101Z"
   },
   {
    "duration": 4072,
    "start_time": "2024-09-22T12:20:25.231Z"
   },
   {
    "duration": 88,
    "start_time": "2024-09-22T12:20:29.305Z"
   },
   {
    "duration": 200,
    "start_time": "2024-09-22T12:20:29.395Z"
   },
   {
    "duration": 4298,
    "start_time": "2024-09-22T12:20:29.597Z"
   },
   {
    "duration": 97,
    "start_time": "2024-09-22T12:20:33.897Z"
   },
   {
    "duration": 90,
    "start_time": "2024-09-22T12:20:34.001Z"
   },
   {
    "duration": 18,
    "start_time": "2024-09-22T12:20:34.093Z"
   },
   {
    "duration": 29,
    "start_time": "2024-09-22T12:20:34.112Z"
   },
   {
    "duration": 6,
    "start_time": "2024-09-22T12:20:34.142Z"
   },
   {
    "duration": 5,
    "start_time": "2024-09-22T12:20:34.149Z"
   },
   {
    "duration": 1087,
    "start_time": "2024-09-22T12:20:34.155Z"
   },
   {
    "duration": 1099,
    "start_time": "2024-09-22T12:20:35.244Z"
   },
   {
    "duration": 1101,
    "start_time": "2024-09-22T12:20:36.345Z"
   },
   {
    "duration": 1462,
    "start_time": "2024-09-22T12:44:21.089Z"
   },
   {
    "duration": 3,
    "start_time": "2024-09-22T12:44:22.553Z"
   },
   {
    "duration": 7,
    "start_time": "2024-09-22T12:44:22.557Z"
   },
   {
    "duration": 5,
    "start_time": "2024-09-22T12:44:22.566Z"
   },
   {
    "duration": 3,
    "start_time": "2024-09-22T12:44:22.573Z"
   },
   {
    "duration": 4,
    "start_time": "2024-09-22T12:44:22.590Z"
   },
   {
    "duration": 5,
    "start_time": "2024-09-22T12:44:22.595Z"
   },
   {
    "duration": 8,
    "start_time": "2024-09-22T12:44:22.601Z"
   },
   {
    "duration": 226,
    "start_time": "2024-09-22T12:44:22.610Z"
   },
   {
    "duration": 200,
    "start_time": "2024-09-22T12:44:22.837Z"
   },
   {
    "duration": 221,
    "start_time": "2024-09-22T12:44:23.038Z"
   },
   {
    "duration": 36,
    "start_time": "2024-09-22T12:44:23.263Z"
   },
   {
    "duration": 25,
    "start_time": "2024-09-22T12:44:23.301Z"
   },
   {
    "duration": 36,
    "start_time": "2024-09-22T12:44:23.329Z"
   },
   {
    "duration": 55,
    "start_time": "2024-09-22T12:44:23.367Z"
   },
   {
    "duration": 3260,
    "start_time": "2024-09-22T12:44:23.424Z"
   },
   {
    "duration": 38,
    "start_time": "2024-09-22T12:44:26.689Z"
   },
   {
    "duration": 3229,
    "start_time": "2024-09-22T12:44:26.729Z"
   },
   {
    "duration": 45,
    "start_time": "2024-09-22T12:44:29.960Z"
   },
   {
    "duration": 3592,
    "start_time": "2024-09-22T12:44:30.007Z"
   },
   {
    "duration": 391,
    "start_time": "2024-09-22T12:44:33.601Z"
   },
   {
    "duration": 380,
    "start_time": "2024-09-22T12:44:33.994Z"
   },
   {
    "duration": 395,
    "start_time": "2024-09-22T12:44:34.376Z"
   },
   {
    "duration": 55,
    "start_time": "2024-09-22T12:44:34.773Z"
   },
   {
    "duration": 4068,
    "start_time": "2024-09-22T12:44:34.830Z"
   },
   {
    "duration": 100,
    "start_time": "2024-09-22T12:44:38.899Z"
   },
   {
    "duration": 137,
    "start_time": "2024-09-22T12:44:39.001Z"
   },
   {
    "duration": 4054,
    "start_time": "2024-09-22T12:44:39.140Z"
   },
   {
    "duration": 98,
    "start_time": "2024-09-22T12:44:43.197Z"
   },
   {
    "duration": 146,
    "start_time": "2024-09-22T12:44:43.298Z"
   },
   {
    "duration": 4057,
    "start_time": "2024-09-22T12:44:43.445Z"
   },
   {
    "duration": 97,
    "start_time": "2024-09-22T12:44:47.504Z"
   },
   {
    "duration": 3,
    "start_time": "2024-09-22T12:44:47.690Z"
   },
   {
    "duration": 5,
    "start_time": "2024-09-22T12:44:47.695Z"
   },
   {
    "duration": 12,
    "start_time": "2024-09-22T12:44:47.701Z"
   },
   {
    "duration": 13,
    "start_time": "2024-09-22T12:44:47.714Z"
   },
   {
    "duration": 20,
    "start_time": "2024-09-22T12:44:47.729Z"
   },
   {
    "duration": 1113,
    "start_time": "2024-09-22T12:44:47.750Z"
   },
   {
    "duration": 1105,
    "start_time": "2024-09-22T12:44:48.865Z"
   },
   {
    "duration": 1146,
    "start_time": "2024-09-22T12:44:49.972Z"
   },
   {
    "duration": 1624,
    "start_time": "2024-09-22T17:28:35.958Z"
   },
   {
    "duration": 4,
    "start_time": "2024-09-22T17:28:37.584Z"
   },
   {
    "duration": 18,
    "start_time": "2024-09-22T17:28:37.590Z"
   },
   {
    "duration": 4,
    "start_time": "2024-09-22T17:28:37.610Z"
   },
   {
    "duration": 4,
    "start_time": "2024-09-22T17:28:37.616Z"
   },
   {
    "duration": 8,
    "start_time": "2024-09-22T17:28:37.622Z"
   },
   {
    "duration": 10,
    "start_time": "2024-09-22T17:28:37.632Z"
   },
   {
    "duration": 4,
    "start_time": "2024-09-22T17:28:37.644Z"
   },
   {
    "duration": 824,
    "start_time": "2024-09-22T17:28:37.649Z"
   },
   {
    "duration": 653,
    "start_time": "2024-09-22T17:28:38.474Z"
   },
   {
    "duration": 637,
    "start_time": "2024-09-22T17:28:39.128Z"
   },
   {
    "duration": 50,
    "start_time": "2024-09-22T17:28:39.767Z"
   },
   {
    "duration": 29,
    "start_time": "2024-09-22T17:28:39.819Z"
   },
   {
    "duration": 59,
    "start_time": "2024-09-22T17:28:39.850Z"
   },
   {
    "duration": 41,
    "start_time": "2024-09-22T17:28:39.911Z"
   },
   {
    "duration": 3290,
    "start_time": "2024-09-22T17:28:39.954Z"
   },
   {
    "duration": 38,
    "start_time": "2024-09-22T17:28:43.245Z"
   },
   {
    "duration": 3317,
    "start_time": "2024-09-22T17:28:43.285Z"
   },
   {
    "duration": 40,
    "start_time": "2024-09-22T17:28:46.604Z"
   },
   {
    "duration": 3880,
    "start_time": "2024-09-22T17:28:46.646Z"
   },
   {
    "duration": 437,
    "start_time": "2024-09-22T17:28:50.528Z"
   },
   {
    "duration": 418,
    "start_time": "2024-09-22T17:28:50.967Z"
   },
   {
    "duration": 422,
    "start_time": "2024-09-22T17:28:51.387Z"
   },
   {
    "duration": 46,
    "start_time": "2024-09-22T17:28:51.810Z"
   },
   {
    "duration": 4046,
    "start_time": "2024-09-22T17:28:51.858Z"
   },
   {
    "duration": 100,
    "start_time": "2024-09-22T17:28:55.905Z"
   },
   {
    "duration": 133,
    "start_time": "2024-09-22T17:28:56.007Z"
   },
   {
    "duration": 4062,
    "start_time": "2024-09-22T17:28:56.142Z"
   },
   {
    "duration": 97,
    "start_time": "2024-09-22T17:29:00.206Z"
   },
   {
    "duration": 50,
    "start_time": "2024-09-22T17:29:00.397Z"
   },
   {
    "duration": 4054,
    "start_time": "2024-09-22T17:29:00.449Z"
   },
   {
    "duration": 98,
    "start_time": "2024-09-22T17:29:04.505Z"
   },
   {
    "duration": 93,
    "start_time": "2024-09-22T17:29:04.605Z"
   },
   {
    "duration": 13,
    "start_time": "2024-09-22T17:29:04.701Z"
   },
   {
    "duration": 15,
    "start_time": "2024-09-22T17:29:04.716Z"
   },
   {
    "duration": 4,
    "start_time": "2024-09-22T17:29:04.733Z"
   },
   {
    "duration": 21,
    "start_time": "2024-09-22T17:29:04.739Z"
   },
   {
    "duration": 1188,
    "start_time": "2024-09-22T17:29:04.761Z"
   },
   {
    "duration": 1193,
    "start_time": "2024-09-22T17:29:05.951Z"
   },
   {
    "duration": 1235,
    "start_time": "2024-09-22T17:29:07.146Z"
   },
   {
    "duration": 4,
    "start_time": "2024-09-22T17:31:46.938Z"
   },
   {
    "duration": 1253,
    "start_time": "2024-09-22T17:31:48.174Z"
   },
   {
    "duration": 1155,
    "start_time": "2024-09-22T17:31:52.760Z"
   },
   {
    "duration": 1182,
    "start_time": "2024-09-22T17:31:55.916Z"
   },
   {
    "duration": 5,
    "start_time": "2024-09-22T17:32:21.223Z"
   },
   {
    "duration": 1174,
    "start_time": "2024-09-22T17:32:24.824Z"
   },
   {
    "duration": 1215,
    "start_time": "2024-09-22T17:32:38.233Z"
   },
   {
    "duration": 1225,
    "start_time": "2024-09-22T17:32:41.213Z"
   },
   {
    "duration": 1492,
    "start_time": "2024-09-22T17:32:57.084Z"
   },
   {
    "duration": 3,
    "start_time": "2024-09-22T17:32:58.577Z"
   },
   {
    "duration": 13,
    "start_time": "2024-09-22T17:32:58.582Z"
   },
   {
    "duration": 8,
    "start_time": "2024-09-22T17:32:58.598Z"
   },
   {
    "duration": 5,
    "start_time": "2024-09-22T17:32:58.608Z"
   },
   {
    "duration": 16,
    "start_time": "2024-09-22T17:32:58.614Z"
   },
   {
    "duration": 3,
    "start_time": "2024-09-22T17:32:58.632Z"
   },
   {
    "duration": 4,
    "start_time": "2024-09-22T17:32:58.636Z"
   },
   {
    "duration": 235,
    "start_time": "2024-09-22T17:32:58.642Z"
   },
   {
    "duration": 201,
    "start_time": "2024-09-22T17:32:58.879Z"
   },
   {
    "duration": 231,
    "start_time": "2024-09-22T17:32:59.081Z"
   },
   {
    "duration": 35,
    "start_time": "2024-09-22T17:32:59.314Z"
   },
   {
    "duration": 25,
    "start_time": "2024-09-22T17:32:59.351Z"
   },
   {
    "duration": 56,
    "start_time": "2024-09-22T17:32:59.377Z"
   },
   {
    "duration": 38,
    "start_time": "2024-09-22T17:32:59.434Z"
   },
   {
    "duration": 3378,
    "start_time": "2024-09-22T17:32:59.474Z"
   },
   {
    "duration": 48,
    "start_time": "2024-09-22T17:33:02.854Z"
   },
   {
    "duration": 3297,
    "start_time": "2024-09-22T17:33:02.903Z"
   },
   {
    "duration": 39,
    "start_time": "2024-09-22T17:33:06.201Z"
   },
   {
    "duration": 3884,
    "start_time": "2024-09-22T17:33:06.242Z"
   },
   {
    "duration": 430,
    "start_time": "2024-09-22T17:33:10.128Z"
   },
   {
    "duration": 423,
    "start_time": "2024-09-22T17:33:10.560Z"
   },
   {
    "duration": 414,
    "start_time": "2024-09-22T17:33:10.985Z"
   },
   {
    "duration": 44,
    "start_time": "2024-09-22T17:33:11.401Z"
   },
   {
    "duration": 4057,
    "start_time": "2024-09-22T17:33:11.446Z"
   },
   {
    "duration": 102,
    "start_time": "2024-09-22T17:33:15.505Z"
   },
   {
    "duration": 50,
    "start_time": "2024-09-22T17:33:15.698Z"
   },
   {
    "duration": 4063,
    "start_time": "2024-09-22T17:33:15.751Z"
   },
   {
    "duration": 185,
    "start_time": "2024-09-22T17:33:19.815Z"
   },
   {
    "duration": 51,
    "start_time": "2024-09-22T17:33:20.002Z"
   },
   {
    "duration": 4056,
    "start_time": "2024-09-22T17:33:20.054Z"
   },
   {
    "duration": 97,
    "start_time": "2024-09-22T17:33:24.111Z"
   },
   {
    "duration": 9,
    "start_time": "2024-09-22T17:33:24.298Z"
   },
   {
    "duration": 14,
    "start_time": "2024-09-22T17:33:24.309Z"
   },
   {
    "duration": 5,
    "start_time": "2024-09-22T17:33:24.324Z"
   },
   {
    "duration": 6,
    "start_time": "2024-09-22T17:33:24.330Z"
   },
   {
    "duration": 8,
    "start_time": "2024-09-22T17:33:24.337Z"
   },
   {
    "duration": 1253,
    "start_time": "2024-09-22T17:33:24.347Z"
   },
   {
    "duration": 1217,
    "start_time": "2024-09-22T17:33:25.601Z"
   },
   {
    "duration": 1221,
    "start_time": "2024-09-22T17:33:26.819Z"
   },
   {
    "duration": 6,
    "start_time": "2024-09-22T17:33:39.590Z"
   },
   {
    "duration": 1215,
    "start_time": "2024-09-22T17:33:41.794Z"
   },
   {
    "duration": 1207,
    "start_time": "2024-09-22T17:33:45.281Z"
   },
   {
    "duration": 1337,
    "start_time": "2024-09-22T17:33:50.732Z"
   },
   {
    "duration": 1440,
    "start_time": "2024-09-22T17:34:15.175Z"
   },
   {
    "duration": 3,
    "start_time": "2024-09-22T17:34:16.617Z"
   },
   {
    "duration": 10,
    "start_time": "2024-09-22T17:34:16.622Z"
   },
   {
    "duration": 5,
    "start_time": "2024-09-22T17:34:16.634Z"
   },
   {
    "duration": 5,
    "start_time": "2024-09-22T17:34:16.641Z"
   },
   {
    "duration": 4,
    "start_time": "2024-09-22T17:34:16.647Z"
   },
   {
    "duration": 4,
    "start_time": "2024-09-22T17:34:16.652Z"
   },
   {
    "duration": 4,
    "start_time": "2024-09-22T17:34:16.657Z"
   },
   {
    "duration": 229,
    "start_time": "2024-09-22T17:34:16.662Z"
   },
   {
    "duration": 197,
    "start_time": "2024-09-22T17:34:16.898Z"
   },
   {
    "duration": 209,
    "start_time": "2024-09-22T17:34:17.097Z"
   },
   {
    "duration": 33,
    "start_time": "2024-09-22T17:34:17.307Z"
   },
   {
    "duration": 31,
    "start_time": "2024-09-22T17:34:17.341Z"
   },
   {
    "duration": 49,
    "start_time": "2024-09-22T17:34:17.375Z"
   },
   {
    "duration": 40,
    "start_time": "2024-09-22T17:34:17.426Z"
   },
   {
    "duration": 3460,
    "start_time": "2024-09-22T17:34:17.467Z"
   },
   {
    "duration": 43,
    "start_time": "2024-09-22T17:34:20.929Z"
   },
   {
    "duration": 3527,
    "start_time": "2024-09-22T17:34:20.974Z"
   },
   {
    "duration": 36,
    "start_time": "2024-09-22T17:34:24.502Z"
   },
   {
    "duration": 3682,
    "start_time": "2024-09-22T17:34:24.539Z"
   },
   {
    "duration": 433,
    "start_time": "2024-09-22T17:34:28.222Z"
   },
   {
    "duration": 427,
    "start_time": "2024-09-22T17:34:28.656Z"
   },
   {
    "duration": 414,
    "start_time": "2024-09-22T17:34:29.085Z"
   },
   {
    "duration": 44,
    "start_time": "2024-09-22T17:34:29.501Z"
   },
   {
    "duration": 4059,
    "start_time": "2024-09-22T17:34:29.546Z"
   },
   {
    "duration": 99,
    "start_time": "2024-09-22T17:34:33.606Z"
   },
   {
    "duration": 49,
    "start_time": "2024-09-22T17:34:33.797Z"
   },
   {
    "duration": 4067,
    "start_time": "2024-09-22T17:34:33.848Z"
   },
   {
    "duration": 184,
    "start_time": "2024-09-22T17:34:37.917Z"
   },
   {
    "duration": 48,
    "start_time": "2024-09-22T17:34:38.102Z"
   },
   {
    "duration": 3858,
    "start_time": "2024-09-22T17:34:38.151Z"
   },
   {
    "duration": 195,
    "start_time": "2024-09-22T17:34:42.011Z"
   },
   {
    "duration": 90,
    "start_time": "2024-09-22T17:34:42.209Z"
   },
   {
    "duration": 5,
    "start_time": "2024-09-22T17:34:42.301Z"
   },
   {
    "duration": 4,
    "start_time": "2024-09-22T17:34:42.307Z"
   },
   {
    "duration": 3,
    "start_time": "2024-09-22T17:34:42.313Z"
   },
   {
    "duration": 5,
    "start_time": "2024-09-22T17:34:42.318Z"
   },
   {
    "duration": 1273,
    "start_time": "2024-09-22T17:34:42.325Z"
   },
   {
    "duration": 1212,
    "start_time": "2024-09-22T17:34:43.601Z"
   },
   {
    "duration": 1230,
    "start_time": "2024-09-22T17:34:44.815Z"
   },
   {
    "duration": 1342,
    "start_time": "2024-09-22T17:39:25.639Z"
   },
   {
    "duration": 3,
    "start_time": "2024-09-22T17:39:26.983Z"
   },
   {
    "duration": 5,
    "start_time": "2024-09-22T17:39:26.988Z"
   },
   {
    "duration": 7,
    "start_time": "2024-09-22T17:39:26.998Z"
   },
   {
    "duration": 4,
    "start_time": "2024-09-22T17:39:27.007Z"
   },
   {
    "duration": 4,
    "start_time": "2024-09-22T17:39:27.013Z"
   },
   {
    "duration": 10,
    "start_time": "2024-09-22T17:39:27.018Z"
   },
   {
    "duration": 8,
    "start_time": "2024-09-22T17:39:27.030Z"
   },
   {
    "duration": 230,
    "start_time": "2024-09-22T17:39:27.039Z"
   },
   {
    "duration": 199,
    "start_time": "2024-09-22T17:39:27.270Z"
   },
   {
    "duration": 214,
    "start_time": "2024-09-22T17:39:27.471Z"
   },
   {
    "duration": 43,
    "start_time": "2024-09-22T17:39:27.686Z"
   },
   {
    "duration": 27,
    "start_time": "2024-09-22T17:39:27.731Z"
   },
   {
    "duration": 55,
    "start_time": "2024-09-22T17:39:27.761Z"
   },
   {
    "duration": 38,
    "start_time": "2024-09-22T17:39:27.818Z"
   },
   {
    "duration": 3379,
    "start_time": "2024-09-22T17:39:27.858Z"
   },
   {
    "duration": 38,
    "start_time": "2024-09-22T17:39:31.238Z"
   },
   {
    "duration": 3409,
    "start_time": "2024-09-22T17:39:31.277Z"
   },
   {
    "duration": 43,
    "start_time": "2024-09-22T17:39:34.688Z"
   },
   {
    "duration": 3825,
    "start_time": "2024-09-22T17:39:34.733Z"
   },
   {
    "duration": 446,
    "start_time": "2024-09-22T17:39:38.559Z"
   },
   {
    "duration": 405,
    "start_time": "2024-09-22T17:39:39.007Z"
   },
   {
    "duration": 439,
    "start_time": "2024-09-22T17:39:39.414Z"
   },
   {
    "duration": 58,
    "start_time": "2024-09-22T17:39:39.855Z"
   },
   {
    "duration": 3990,
    "start_time": "2024-09-22T17:39:39.914Z"
   },
   {
    "duration": 195,
    "start_time": "2024-09-22T17:39:43.905Z"
   },
   {
    "duration": 45,
    "start_time": "2024-09-22T17:39:44.101Z"
   },
   {
    "duration": 4059,
    "start_time": "2024-09-22T17:39:44.148Z"
   },
   {
    "duration": 95,
    "start_time": "2024-09-22T17:39:48.208Z"
   },
   {
    "duration": 158,
    "start_time": "2024-09-22T17:39:48.307Z"
   },
   {
    "duration": 4036,
    "start_time": "2024-09-22T17:39:48.467Z"
   },
   {
    "duration": 193,
    "start_time": "2024-09-22T17:39:52.505Z"
   },
   {
    "duration": 4,
    "start_time": "2024-09-22T17:39:52.700Z"
   },
   {
    "duration": 7,
    "start_time": "2024-09-22T17:39:52.705Z"
   },
   {
    "duration": 15,
    "start_time": "2024-09-22T17:39:52.714Z"
   },
   {
    "duration": 3,
    "start_time": "2024-09-22T17:39:52.731Z"
   },
   {
    "duration": 6,
    "start_time": "2024-09-22T17:39:52.735Z"
   },
   {
    "duration": 1201,
    "start_time": "2024-09-22T17:39:52.742Z"
   },
   {
    "duration": 1213,
    "start_time": "2024-09-22T17:39:53.944Z"
   },
   {
    "duration": 1189,
    "start_time": "2024-09-22T17:39:55.158Z"
   },
   {
    "duration": 9,
    "start_time": "2024-09-22T17:47:05.406Z"
   },
   {
    "duration": 16,
    "start_time": "2024-09-22T17:48:16.702Z"
   },
   {
    "duration": 157,
    "start_time": "2024-09-22T17:49:24.178Z"
   }
  ],
  "kernelspec": {
   "display_name": "Python 3 (ipykernel)",
   "language": "python",
   "name": "python3"
  },
  "language_info": {
   "codemirror_mode": {
    "name": "ipython",
    "version": 3
   },
   "file_extension": ".py",
   "mimetype": "text/x-python",
   "name": "python",
   "nbconvert_exporter": "python",
   "pygments_lexer": "ipython3",
   "version": "3.11.7"
  },
  "toc": {
   "base_numbering": 1,
   "nav_menu": {},
   "number_sections": true,
   "sideBar": true,
   "skip_h1_title": true,
   "title_cell": "Table of Contents",
   "title_sidebar": "Contents",
   "toc_cell": false,
   "toc_position": {
    "height": "calc(100% - 180px)",
    "left": "10px",
    "top": "150px",
    "width": "297.6px"
   },
   "toc_section_display": true,
   "toc_window_display": false
  }
 },
 "nbformat": 4,
 "nbformat_minor": 4
}
